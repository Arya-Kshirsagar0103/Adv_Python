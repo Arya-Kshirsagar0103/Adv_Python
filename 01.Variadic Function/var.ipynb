{
 "cells": [
  {
   "cell_type": "markdown",
   "id": "d3bcc913",
   "metadata": {},
   "source": [
    "# Variadic Functions\n"
   ]
  },
  {
   "cell_type": "code",
   "execution_count": 4,
   "id": "a0326970",
   "metadata": {},
   "outputs": [],
   "source": [
    "def add(a: int | float, b: int | float) -> int | float:\n",
    "    \"\"\"\n",
    "    This is a funct for adding 2 nos\n",
    "    \"\"\"\n",
    "    c = a + b\n",
    "    return c"
   ]
  },
  {
   "cell_type": "code",
   "execution_count": 5,
   "id": "a82883e5",
   "metadata": {},
   "outputs": [
    {
     "name": "stdout",
     "output_type": "stream",
     "text": [
      "Help on function add in module __main__:\n",
      "\n",
      "add(a: int | float, b: int | float) -> int | float\n",
      "    This is a funct for adding 2 nos\n",
      "\n"
     ]
    }
   ],
   "source": [
    "help(add)"
   ]
  },
  {
   "cell_type": "markdown",
   "id": "d98075af",
   "metadata": {},
   "source": [
    "# Positional Argument\n"
   ]
  },
  {
   "cell_type": "code",
   "execution_count": 6,
   "id": "73ceedaf",
   "metadata": {},
   "outputs": [
    {
     "name": "stdout",
     "output_type": "stream",
     "text": [
      "7\n"
     ]
    }
   ],
   "source": [
    "a1 = add(3, 4)\n",
    "print(a1)"
   ]
  },
  {
   "cell_type": "markdown",
   "id": "1bc22ffd",
   "metadata": {},
   "source": [
    "# Keyword Argument"
   ]
  },
  {
   "cell_type": "code",
   "execution_count": 11,
   "id": "142daa26",
   "metadata": {},
   "outputs": [
    {
     "name": "stdout",
     "output_type": "stream",
     "text": [
      "36.2\n"
     ]
    }
   ],
   "source": [
    "a2_1 = add(a=23.5, b=12.7)\n",
    "print(a2_1)"
   ]
  },
  {
   "cell_type": "markdown",
   "id": "89b31498",
   "metadata": {},
   "source": [
    "#above functn will not take more or less inputs ,strictly takes only 2 i/p"
   ]
  },
  {
   "cell_type": "code",
   "execution_count": 13,
   "id": "3e7f434f",
   "metadata": {},
   "outputs": [
    {
     "data": {
      "text/plain": [
       "3"
      ]
     },
     "execution_count": 13,
     "metadata": {},
     "output_type": "execute_result"
    }
   ],
   "source": [
    "add(2, 1)"
   ]
  },
  {
   "cell_type": "markdown",
   "id": "05a29e2b",
   "metadata": {},
   "source": [
    "# Variadic Argument\n",
    "Positional Args"
   ]
  },
  {
   "cell_type": "code",
   "execution_count": 15,
   "id": "7c7b613d",
   "metadata": {},
   "outputs": [],
   "source": [
    "def funct1(*args):\n",
    "    print(args)\n",
    "    print(f\"Type :{type(args)}\")\n",
    "    for i in args:\n",
    "        print(i)"
   ]
  },
  {
   "cell_type": "code",
   "execution_count": 16,
   "id": "adfe2a0f",
   "metadata": {},
   "outputs": [
    {
     "name": "stdout",
     "output_type": "stream",
     "text": [
      "(1, 2)\n",
      "Type :<class 'tuple'>\n",
      "1\n",
      "2\n"
     ]
    }
   ],
   "source": [
    "funct1(1, 2)"
   ]
  },
  {
   "cell_type": "code",
   "execution_count": 17,
   "id": "21bc35bc",
   "metadata": {},
   "outputs": [
    {
     "name": "stdout",
     "output_type": "stream",
     "text": [
      "('Arya', 21, True, 0.1234)\n",
      "Type :<class 'tuple'>\n",
      "Arya\n",
      "21\n",
      "True\n",
      "0.1234\n"
     ]
    }
   ],
   "source": [
    "funct1(\"Arya\", 21, True, 0.1234)"
   ]
  },
  {
   "cell_type": "code",
   "execution_count": 19,
   "id": "132961ca",
   "metadata": {},
   "outputs": [],
   "source": [
    "def add_multiple(*args):\n",
    "    # STEP1 : intitilazie sum to 0\n",
    "    s = 0\n",
    "    # Apply for loop on args\n",
    "    for i in args:\n",
    "        s = s + i\n",
    "    # return value of s\n",
    "    return s"
   ]
  },
  {
   "cell_type": "code",
   "execution_count": 20,
   "id": "6e8315d0",
   "metadata": {},
   "outputs": [
    {
     "data": {
      "text/plain": [
       "5"
      ]
     },
     "execution_count": 20,
     "metadata": {},
     "output_type": "execute_result"
    }
   ],
   "source": [
    "add_multiple(2, 3)"
   ]
  },
  {
   "cell_type": "code",
   "execution_count": 21,
   "id": "193206d9",
   "metadata": {},
   "outputs": [
    {
     "data": {
      "text/plain": [
       "6"
      ]
     },
     "execution_count": 21,
     "metadata": {},
     "output_type": "execute_result"
    }
   ],
   "source": [
    "add_multiple(1, 2, 3)"
   ]
  },
  {
   "cell_type": "code",
   "execution_count": 22,
   "id": "d0109d2e",
   "metadata": {},
   "outputs": [
    {
     "data": {
      "text/plain": [
       "2060"
      ]
     },
     "execution_count": 22,
     "metadata": {},
     "output_type": "execute_result"
    }
   ],
   "source": [
    "add_multiple(10, 11, 12, 13, 14, 2000)"
   ]
  },
  {
   "cell_type": "code",
   "execution_count": null,
   "id": "88126585",
   "metadata": {},
   "outputs": [
    {
     "data": {
      "text/plain": [
       "list"
      ]
     },
     "execution_count": 23,
     "metadata": {},
     "output_type": "execute_result"
    }
   ],
   "source": [
    "# For a list data\n",
    "a = [1, 2, 3, 4, 5, 6, 7, 8, 9, 0]\n",
    "type(a)"
   ]
  },
  {
   "cell_type": "code",
   "execution_count": 24,
   "id": "a9399042",
   "metadata": {},
   "outputs": [
    {
     "data": {
      "text/plain": [
       "45"
      ]
     },
     "execution_count": 24,
     "metadata": {},
     "output_type": "execute_result"
    }
   ],
   "source": [
    "# we need to unpack the list\n",
    "add_multiple(*a)"
   ]
  },
  {
   "cell_type": "code",
   "execution_count": 30,
   "id": "1f70f9a6",
   "metadata": {},
   "outputs": [
    {
     "name": "stdout",
     "output_type": "stream",
     "text": [
      "[1, 2, 3, 4, 5, 6, 7, 8, 9, 10, 11, 12, 13, 14, 15, 16, 17, 18, 19, 20, 21, 22, 23, 24, 25, 26, 27, 28, 29, 30, 31, 32, 33, 34, 35, 36, 37, 38, 39, 40, 41, 42, 43, 44, 45, 46, 47, 48, 49, 50]\n"
     ]
    }
   ],
   "source": [
    "b = list(range(1, 51))\n",
    "print(b)"
   ]
  },
  {
   "cell_type": "code",
   "execution_count": 31,
   "id": "71db6a5f",
   "metadata": {},
   "outputs": [
    {
     "data": {
      "text/plain": [
       "1275"
      ]
     },
     "execution_count": 31,
     "metadata": {},
     "output_type": "execute_result"
    }
   ],
   "source": [
    "# whenever calling list inside functn unpack the list\n",
    "add_multiple(*b)"
   ]
  },
  {
   "cell_type": "markdown",
   "id": "b300bf97",
   "metadata": {},
   "source": [
    "Keyword Args Variadic\n",
    "**kwargs-> keyword arguments->They act like a dict in  python"
   ]
  },
  {
   "cell_type": "code",
   "execution_count": 33,
   "id": "4cb9409b",
   "metadata": {},
   "outputs": [],
   "source": [
    "def funct2(**kwargs):\n",
    "    print(kwargs)\n",
    "    print(f\"Type:{type(kwargs)}\")\n",
    "    for key, value in kwargs.items():\n",
    "        print(f\"key:{key},value:{value}\")"
   ]
  },
  {
   "cell_type": "code",
   "execution_count": 36,
   "id": "e13a3694",
   "metadata": {},
   "outputs": [
    {
     "name": "stdout",
     "output_type": "stream",
     "text": [
      "{'a': 1, 'b': 232.4, 'name': 'Ram', 'test': True}\n",
      "Type:<class 'dict'>\n",
      "key:a,value:1\n",
      "key:b,value:232.4\n",
      "key:name,value:Ram\n",
      "key:test,value:True\n"
     ]
    }
   ],
   "source": [
    "funct2(a=1, b=232.4, name=\"Ram\", test=True)"
   ]
  },
  {
   "cell_type": "code",
   "execution_count": 38,
   "id": "7bf51f1d",
   "metadata": {},
   "outputs": [
    {
     "name": "stdout",
     "output_type": "stream",
     "text": [
      "{'name': 'Arya'}\n",
      "Type:<class 'dict'>\n",
      "key:name,value:Arya\n"
     ]
    }
   ],
   "source": [
    "funct2(name=\"Arya\")"
   ]
  },
  {
   "cell_type": "code",
   "execution_count": 40,
   "id": "c070f2c9",
   "metadata": {},
   "outputs": [
    {
     "name": "stdout",
     "output_type": "stream",
     "text": [
      "{'name': 'Arya', 'phone_no': 1234567890, 'age': 21, 'email': 'arya1234@gmail.com'}\n",
      "Type:<class 'dict'>\n",
      "key:name,value:Arya\n",
      "key:phone_no,value:1234567890\n",
      "key:age,value:21\n",
      "key:email,value:arya1234@gmail.com\n"
     ]
    }
   ],
   "source": [
    "funct2(name=\"Arya\", phone_no=1234567890, age=21, email=\"arya1234@gmail.com\")"
   ]
  },
  {
   "cell_type": "markdown",
   "id": "a39b6e99",
   "metadata": {},
   "source": [
    "u can also unpack dict as kwargs with **"
   ]
  },
  {
   "cell_type": "code",
   "execution_count": 45,
   "id": "04b20d99",
   "metadata": {},
   "outputs": [
    {
     "data": {
      "text/plain": [
       "dict"
      ]
     },
     "execution_count": 45,
     "metadata": {},
     "output_type": "execute_result"
    }
   ],
   "source": [
    "c = {\"name\": \"Arya\", \"phone_no\": 1234567890, \"age\": 21, \"email\": \"arya1234@gmail.com\"}\n",
    "type(c)"
   ]
  },
  {
   "cell_type": "code",
   "execution_count": 46,
   "id": "a49e032f",
   "metadata": {},
   "outputs": [
    {
     "name": "stdout",
     "output_type": "stream",
     "text": [
      "{'name': 'Arya', 'phone_no': 1234567890, 'age': 21, 'email': 'arya1234@gmail.com'}\n",
      "Type:<class 'dict'>\n",
      "key:name,value:Arya\n",
      "key:phone_no,value:1234567890\n",
      "key:age,value:21\n",
      "key:email,value:arya1234@gmail.com\n"
     ]
    }
   ],
   "source": [
    "funct2(**c)"
   ]
  },
  {
   "cell_type": "markdown",
   "id": "9be2c9fc",
   "metadata": {},
   "source": [
    "#real life eg"
   ]
  },
  {
   "cell_type": "code",
   "execution_count": 53,
   "id": "d37ee053",
   "metadata": {},
   "outputs": [],
   "source": [
    "def create_user(**kwargs):\n",
    "    user = {\"name\": None, \"age\": None, \"city\": None}\n",
    "    user.update(kwargs)\n",
    "    return user"
   ]
  },
  {
   "cell_type": "code",
   "execution_count": 54,
   "id": "7b0e08d5",
   "metadata": {},
   "outputs": [
    {
     "name": "stdout",
     "output_type": "stream",
     "text": [
      "{'name': 'ARYA', 'age': 21, 'city': 'Wakad'}\n"
     ]
    }
   ],
   "source": [
    "u1 = create_user(name=\"ARYA\", age=21, city=\"Wakad\")\n",
    "print(u1)"
   ]
  },
  {
   "cell_type": "code",
   "execution_count": 57,
   "id": "79047cf2",
   "metadata": {},
   "outputs": [
    {
     "name": "stdout",
     "output_type": "stream",
     "text": [
      "{'name': 'MONA', 'age': 21, 'city': None}\n"
     ]
    }
   ],
   "source": [
    "u2 = create_user(name=\"MONA\", age=21)\n",
    "print(u2)"
   ]
  },
  {
   "cell_type": "code",
   "execution_count": 59,
   "id": "af09ea4c",
   "metadata": {},
   "outputs": [
    {
     "name": "stdout",
     "output_type": "stream",
     "text": [
      "{'name': 'YUASH', 'age': 21, 'city': 'SUS', 'phone_no': 234567890}\n"
     ]
    }
   ],
   "source": [
    "u3 = create_user(name=\"YUASH\", age=21, city=\"SUS\", phone_no=234567890)\n",
    "print(u3)"
   ]
  },
  {
   "cell_type": "code",
   "execution_count": 61,
   "id": "243f3592",
   "metadata": {},
   "outputs": [
    {
     "name": "stdout",
     "output_type": "stream",
     "text": [
      "{'name': 'SHLOK', 'age': 21, 'city': None, 'phone_no': 987654321}\n"
     ]
    }
   ],
   "source": [
    "u4 = create_user(name=\"SHLOK\", age=21, phone_no=987654321)\n",
    "print(u4)"
   ]
  },
  {
   "cell_type": "markdown",
   "id": "066d8410",
   "metadata": {},
   "source": [
    "# Use *args and **kwargs\n",
    "Positional args are always first inputs,then u have kwargs"
   ]
  },
  {
   "cell_type": "code",
   "execution_count": 64,
   "id": "bfccfa61",
   "metadata": {},
   "outputs": [],
   "source": [
    "def func3(*args, **kwargs):\n",
    "    # Args\n",
    "    print(args)\n",
    "    print(\"Type of Args:{type(args)}\")\n",
    "    for i in args:\n",
    "        print(i)\n",
    "    # Kwargs\n",
    "    print(kwargs)\n",
    "    print(f\"Type of Kwargs:{type(kwargs)}\")\n",
    "    for key, value in kwargs.items():\n",
    "        print(f\"Key:{key},Value:{value}\")"
   ]
  },
  {
   "cell_type": "code",
   "execution_count": 65,
   "id": "ae69df51",
   "metadata": {},
   "outputs": [
    {
     "name": "stdout",
     "output_type": "stream",
     "text": [
      "(1, 2, 3, 4)\n",
      "Type of Args:{type(args)}\n",
      "1\n",
      "2\n",
      "3\n",
      "4\n",
      "{}\n",
      "Type of Kwargs:<class 'dict'>\n"
     ]
    }
   ],
   "source": [
    "func3(1, 2, 3, 4)"
   ]
  },
  {
   "cell_type": "code",
   "execution_count": 66,
   "id": "625da8be",
   "metadata": {},
   "outputs": [
    {
     "name": "stdout",
     "output_type": "stream",
     "text": [
      "()\n",
      "Type of Args:{type(args)}\n",
      "{'name': 'aditi', 'age': 'Pune'}\n",
      "Type of Kwargs:<class 'dict'>\n",
      "Key:name,Value:aditi\n",
      "Key:age,Value:Pune\n"
     ]
    }
   ],
   "source": [
    "func3(name=\"aditi\", age=\"Pune\")"
   ]
  },
  {
   "cell_type": "code",
   "execution_count": 67,
   "id": "c1930632",
   "metadata": {},
   "outputs": [
    {
     "name": "stdout",
     "output_type": "stream",
     "text": [
      "(10, 11, 12, 13)\n",
      "Type of Args:{type(args)}\n",
      "10\n",
      "11\n",
      "12\n",
      "13\n",
      "{'a': 14, 'b': 15}\n",
      "Type of Kwargs:<class 'dict'>\n",
      "Key:a,Value:14\n",
      "Key:b,Value:15\n"
     ]
    }
   ],
   "source": [
    "# Incorrect syntax\n",
    "# funct3(a=12,b=50,55,100)\n",
    "\n",
    "# Correct Syantax\n",
    "func3(10, 11, 12, 13, a=14, b=15)"
   ]
  },
  {
   "cell_type": "markdown",
   "id": "bbfbf6e9",
   "metadata": {},
   "source": [
    "# Summary\n",
    "Variadic functs provide flexibilyu in i/p to user\n",
    "1) *args -> Positional args act like a Tuple\n",
    "2) **kwars -> Keyword args act like a Dict"
   ]
  },
  {
   "cell_type": "code",
   "execution_count": null,
   "id": "c72280aa",
   "metadata": {},
   "outputs": [],
   "source": []
  }
 ],
 "metadata": {
  "kernelspec": {
   "display_name": "Adv_Python_Codes_11.30",
   "language": "python",
   "name": "python3"
  },
  "language_info": {
   "codemirror_mode": {
    "name": "ipython",
    "version": 3
   },
   "file_extension": ".py",
   "mimetype": "text/x-python",
   "name": "python",
   "nbconvert_exporter": "python",
   "pygments_lexer": "ipython3",
   "version": "3.12.7"
  }
 },
 "nbformat": 4,
 "nbformat_minor": 5
}
