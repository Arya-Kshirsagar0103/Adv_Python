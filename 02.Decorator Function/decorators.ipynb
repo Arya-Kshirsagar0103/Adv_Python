{
 "cells": [
  {
   "cell_type": "markdown",
   "id": "d8891ab7",
   "metadata": {},
   "source": [
    "# Decorators\n",
    "Decorators modify the behaviour of nay finct\n",
    "\n",
    "1.Input Functn\n",
    "\n",
    "2. Output Functn -> wrapper"
   ]
  },
  {
   "cell_type": "code",
   "execution_count": 1,
   "id": "ad5d88b8",
   "metadata": {},
   "outputs": [],
   "source": [
    "def welcome(func):\n",
    "    def wrapper(*args, **kwargs):\n",
    "        print(\"Welcome User\")\n",
    "        res = func(*args, **kwargs)\n",
    "        print(f\"Function REsults:{res}\")\n",
    "        print(\"Thank You\")\n",
    "        return res\n",
    "\n",
    "    return wrapper"
   ]
  },
  {
   "cell_type": "code",
   "execution_count": 2,
   "id": "166b64c7",
   "metadata": {},
   "outputs": [],
   "source": [
    "# Call the Decorator\n",
    "import math\n",
    "\n",
    "\n",
    "@welcome\n",
    "def hypotenus(a: float, b: float) -> float:\n",
    "    c = math.sqrt(a**2 + b**2)\n",
    "    return c"
   ]
  },
  {
   "cell_type": "markdown",
   "id": "0c3cfd01",
   "metadata": {},
   "source": []
  },
  {
   "cell_type": "code",
   "execution_count": 3,
   "id": "bddd64f7",
   "metadata": {},
   "outputs": [
    {
     "name": "stdout",
     "output_type": "stream",
     "text": [
      "Welcome User\n",
      "Function REsults:5.0\n",
      "Thank You\n"
     ]
    }
   ],
   "source": [
    "h1 = hypotenus(3.0, 4.0)"
   ]
  },
  {
   "cell_type": "code",
   "execution_count": 4,
   "id": "9e524c7f",
   "metadata": {},
   "outputs": [
    {
     "data": {
      "text/plain": [
       "5.0"
      ]
     },
     "execution_count": 4,
     "metadata": {},
     "output_type": "execute_result"
    }
   ],
   "source": [
    "h1"
   ]
  },
  {
   "cell_type": "code",
   "execution_count": 5,
   "id": "db392abc",
   "metadata": {},
   "outputs": [
    {
     "name": "stdout",
     "output_type": "stream",
     "text": [
      "Welcome User\n",
      "Function REsults:18.398369492974098\n",
      "Thank You\n"
     ]
    }
   ],
   "source": [
    "h2 = hypotenus(12.5, 13.5)"
   ]
  },
  {
   "cell_type": "code",
   "execution_count": 6,
   "id": "4365e18d",
   "metadata": {},
   "outputs": [
    {
     "data": {
      "text/plain": [
       "18.398369492974098"
      ]
     },
     "execution_count": 6,
     "metadata": {},
     "output_type": "execute_result"
    }
   ],
   "source": [
    "h2"
   ]
  },
  {
   "cell_type": "code",
   "execution_count": 7,
   "id": "cdb371cd",
   "metadata": {},
   "outputs": [],
   "source": [
    "# Apply welcome decorator on Simple insterest funct\n",
    "\n",
    "\n",
    "@welcome\n",
    "def simple_intrest(p: float, n: float, r: float) -> tuple[float, float]:\n",
    "    i = (p * n * r) / 100\n",
    "    a = p + i\n",
    "    return i, a"
   ]
  },
  {
   "cell_type": "code",
   "execution_count": 8,
   "id": "6b8466bf",
   "metadata": {},
   "outputs": [
    {
     "name": "stdout",
     "output_type": "stream",
     "text": [
      "Welcome User\n",
      "Function REsults:(18750.0, 68750.0)\n",
      "Thank You\n"
     ]
    }
   ],
   "source": [
    "i1, a1 = simple_intrest(50000, n=5.0, r=7.5)"
   ]
  },
  {
   "cell_type": "code",
   "execution_count": 9,
   "id": "7a856ef2",
   "metadata": {},
   "outputs": [
    {
     "data": {
      "text/plain": [
       "18750.0"
      ]
     },
     "execution_count": 9,
     "metadata": {},
     "output_type": "execute_result"
    }
   ],
   "source": [
    "i1"
   ]
  },
  {
   "cell_type": "code",
   "execution_count": 10,
   "id": "a3e86a28",
   "metadata": {},
   "outputs": [
    {
     "data": {
      "text/plain": [
       "68750.0"
      ]
     },
     "execution_count": 10,
     "metadata": {},
     "output_type": "execute_result"
    }
   ],
   "source": [
    "a1"
   ]
  },
  {
   "cell_type": "code",
   "execution_count": 13,
   "id": "ec493108",
   "metadata": {},
   "outputs": [
    {
     "name": "stdout",
     "output_type": "stream",
     "text": [
      "Welcome User\n",
      "Function REsults:(8222.5, 31222.5)\n",
      "Thank You\n"
     ]
    }
   ],
   "source": [
    "i2, a2 = simple_intrest(p=23000, n=5.5, r=6.5)"
   ]
  },
  {
   "cell_type": "code",
   "execution_count": null,
   "id": "eebaad93",
   "metadata": {},
   "outputs": [],
   "source": []
  }
 ],
 "metadata": {
  "kernelspec": {
   "display_name": "Adv_Python_Codes_11.30",
   "language": "python",
   "name": "python3"
  },
  "language_info": {
   "codemirror_mode": {
    "name": "ipython",
    "version": 3
   },
   "file_extension": ".py",
   "mimetype": "text/x-python",
   "name": "python",
   "nbconvert_exporter": "python",
   "pygments_lexer": "ipython3",
   "version": "3.12.7"
  }
 },
 "nbformat": 4,
 "nbformat_minor": 5
}
