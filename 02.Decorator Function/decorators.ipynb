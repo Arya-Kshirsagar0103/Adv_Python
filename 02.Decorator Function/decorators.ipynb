{
 "cells": [
  {
   "cell_type": "markdown",
   "id": "d8891ab7",
   "metadata": {},
   "source": [
    "# Decorators\n",
    "Decorators modify the behaviour of nay finct\n",
    "\n",
    "1.Input Functn\n",
    "\n",
    "2. Output Functn -> wrapper"
   ]
  },
  {
   "cell_type": "code",
   "execution_count": 1,
   "id": "ad5d88b8",
   "metadata": {},
   "outputs": [],
   "source": [
    "def welcome(func):\n",
    "    def wrapper(*args, **kwargs):\n",
    "        print(\"Welcome User\")\n",
    "        res = func(*args, **kwargs)\n",
    "        print(f\"Function REsults:{res}\")\n",
    "        print(\"Thank You\")\n",
    "        return res\n",
    "\n",
    "    return wrapper"
   ]
  },
  {
   "cell_type": "code",
   "execution_count": 2,
   "id": "166b64c7",
   "metadata": {},
   "outputs": [],
   "source": [
    "# Call the Decorator\n",
    "import math\n",
    "\n",
    "\n",
    "@welcome\n",
    "def hypotenus(a: float, b: float) -> float:\n",
    "    c = math.sqrt(a**2 + b**2)\n",
    "    return c"
   ]
  },
  {
   "cell_type": "markdown",
   "id": "0c3cfd01",
   "metadata": {},
   "source": []
  },
  {
   "cell_type": "code",
   "execution_count": 3,
   "id": "bddd64f7",
   "metadata": {},
   "outputs": [
    {
     "name": "stdout",
     "output_type": "stream",
     "text": [
      "Welcome User\n",
      "Function REsults:5.0\n",
      "Thank You\n"
     ]
    }
   ],
   "source": [
    "h1 = hypotenus(3.0, 4.0)"
   ]
  },
  {
   "cell_type": "code",
   "execution_count": 4,
   "id": "9e524c7f",
   "metadata": {},
   "outputs": [
    {
     "data": {
      "text/plain": [
       "5.0"
      ]
     },
     "execution_count": 4,
     "metadata": {},
     "output_type": "execute_result"
    }
   ],
   "source": [
    "h1"
   ]
  },
  {
   "cell_type": "code",
   "execution_count": 5,
   "id": "db392abc",
   "metadata": {},
   "outputs": [
    {
     "name": "stdout",
     "output_type": "stream",
     "text": [
      "Welcome User\n",
      "Function REsults:18.398369492974098\n",
      "Thank You\n"
     ]
    }
   ],
   "source": [
    "h2 = hypotenus(12.5, 13.5)"
   ]
  },
  {
   "cell_type": "code",
   "execution_count": 6,
   "id": "4365e18d",
   "metadata": {},
   "outputs": [
    {
     "data": {
      "text/plain": [
       "18.398369492974098"
      ]
     },
     "execution_count": 6,
     "metadata": {},
     "output_type": "execute_result"
    }
   ],
   "source": [
    "h2"
   ]
  },
  {
   "cell_type": "code",
   "execution_count": 7,
   "id": "cdb371cd",
   "metadata": {},
   "outputs": [],
   "source": [
    "# Apply welcome decorator on Simple insterest funct\n",
    "\n",
    "\n",
    "@welcome\n",
    "def simple_intrest(p: float, n: float, r: float) -> tuple[float, float]:\n",
    "    i = (p * n * r) / 100\n",
    "    a = p + i\n",
    "    return i, a"
   ]
  },
  {
   "cell_type": "code",
   "execution_count": 8,
   "id": "6b8466bf",
   "metadata": {},
   "outputs": [
    {
     "name": "stdout",
     "output_type": "stream",
     "text": [
      "Welcome User\n",
      "Function REsults:(18750.0, 68750.0)\n",
      "Thank You\n"
     ]
    }
   ],
   "source": [
    "i1, a1 = simple_intrest(50000, n=5.0, r=7.5)"
   ]
  },
  {
   "cell_type": "code",
   "execution_count": 9,
   "id": "7a856ef2",
   "metadata": {},
   "outputs": [
    {
     "data": {
      "text/plain": [
       "18750.0"
      ]
     },
     "execution_count": 9,
     "metadata": {},
     "output_type": "execute_result"
    }
   ],
   "source": [
    "i1"
   ]
  },
  {
   "cell_type": "code",
   "execution_count": 10,
   "id": "a3e86a28",
   "metadata": {},
   "outputs": [
    {
     "data": {
      "text/plain": [
       "68750.0"
      ]
     },
     "execution_count": 10,
     "metadata": {},
     "output_type": "execute_result"
    }
   ],
   "source": [
    "a1"
   ]
  },
  {
   "cell_type": "code",
   "execution_count": 13,
   "id": "ec493108",
   "metadata": {},
   "outputs": [
    {
     "name": "stdout",
     "output_type": "stream",
     "text": [
      "Welcome User\n",
      "Function REsults:(8222.5, 31222.5)\n",
      "Thank You\n"
     ]
    }
   ],
   "source": [
    "i2, a2 = simple_intrest(p=23000, n=5.5, r=6.5)"
   ]
  },
  {
   "cell_type": "code",
   "execution_count": 14,
   "id": "eebaad93",
   "metadata": {},
   "outputs": [],
   "source": [
    "# Create a decorator to measure time req for execution"
   ]
  },
  {
   "cell_type": "code",
   "execution_count": 16,
   "id": "373025e8",
   "metadata": {},
   "outputs": [
    {
     "name": "stdout",
     "output_type": "stream",
     "text": [
      "Hello\n",
      "World\n",
      "Time req for execution :5.007502sec\n"
     ]
    }
   ],
   "source": [
    "import time\n",
    "\n",
    "start = time.perf_counter()  # start measuring the time\n",
    "time.sleep(2)  # This will keep kernel idle for 2sec\n",
    "print(\"Hello\")\n",
    "time.sleep(3)\n",
    "print(\"World\")\n",
    "stop = time.perf_counter()  # stop measuring time\n",
    "elapsed = stop - start\n",
    "print(f\"Time req for execution :{elapsed:2f}sec\")"
   ]
  },
  {
   "cell_type": "code",
   "execution_count": 26,
   "id": "eb3e9968",
   "metadata": {},
   "outputs": [],
   "source": [
    "def measure_time(func):\n",
    "    def wrapper(*args, **kwargs):\n",
    "        # start measuring time\n",
    "        start = time.perf_counter()\n",
    "        # calculate funct results and print\n",
    "        res = func(*args, **kwargs)\n",
    "        print(f\"Results:{res}\")\n",
    "        # stop measuring time\n",
    "        stop = time.perf_counter()\n",
    "        # cal time for exceution\n",
    "        elapsed = stop - start\n",
    "        print(f\"Time req to execution code:{elapsed:.2f}sec\")\n",
    "        return res"
   ]
  },
  {
   "cell_type": "code",
   "execution_count": 27,
   "id": "9575b94a",
   "metadata": {},
   "outputs": [],
   "source": [
    "@measure_time\n",
    "def square(n: int) -> int:\n",
    "    time.sleep(4.5)\n",
    "    return n**2"
   ]
  },
  {
   "cell_type": "code",
   "execution_count": 28,
   "id": "c1da9911",
   "metadata": {},
   "outputs": [
    {
     "ename": "TypeError",
     "evalue": "'NoneType' object is not callable",
     "output_type": "error",
     "traceback": [
      "\u001b[31m---------------------------------------------------------------------------\u001b[39m",
      "\u001b[31mTypeError\u001b[39m                                 Traceback (most recent call last)",
      "\u001b[36mCell\u001b[39m\u001b[36m \u001b[39m\u001b[32mIn[28]\u001b[39m\u001b[32m, line 1\u001b[39m\n\u001b[32m----> \u001b[39m\u001b[32m1\u001b[39m s1 = \u001b[43msquare\u001b[49m\u001b[43m(\u001b[49m\u001b[32;43m24\u001b[39;49m\u001b[43m)\u001b[49m\n",
      "\u001b[31mTypeError\u001b[39m: 'NoneType' object is not callable"
     ]
    }
   ],
   "source": [
    "s1 = square(24)"
   ]
  },
  {
   "cell_type": "code",
   "execution_count": null,
   "id": "c0eefdf6",
   "metadata": {},
   "outputs": [],
   "source": []
  }
 ],
 "metadata": {
  "kernelspec": {
   "display_name": "Adv_Python_Codes_11.30",
   "language": "python",
   "name": "python3"
  },
  "language_info": {
   "codemirror_mode": {
    "name": "ipython",
    "version": 3
   },
   "file_extension": ".py",
   "mimetype": "text/x-python",
   "name": "python",
   "nbconvert_exporter": "python",
   "pygments_lexer": "ipython3",
   "version": "3.12.7"
  }
 },
 "nbformat": 4,
 "nbformat_minor": 5
}
