{
 "cells": [
  {
   "cell_type": "markdown",
   "id": "f9b0a712",
   "metadata": {},
   "source": [
    "# Polymorphism \n",
    "same functn can be applied on diff classes\n"
   ]
  },
  {
   "cell_type": "markdown",
   "id": "a154ce9e",
   "metadata": {},
   "source": [
    "1) Polymorphism on Functn\n",
    "(len,sum etc)\n"
   ]
  },
  {
   "cell_type": "code",
   "execution_count": 1,
   "id": "63138da3",
   "metadata": {},
   "outputs": [
    {
     "name": "stdout",
     "output_type": "stream",
     "text": [
      "<class 'str'>\n",
      "7\n"
     ]
    }
   ],
   "source": [
    "name = \"ETLHIVE\"\n",
    "print(type(name))\n",
    "print(len(name))"
   ]
  },
  {
   "cell_type": "code",
   "execution_count": 2,
   "id": "98a9ec69",
   "metadata": {},
   "outputs": [
    {
     "name": "stdout",
     "output_type": "stream",
     "text": [
      "<class 'list'>\n",
      "6\n"
     ]
    }
   ],
   "source": [
    "a = [1, 2, 3, 4, 5, 10]\n",
    "print(type(a))\n",
    "print(len(a))"
   ]
  },
  {
   "cell_type": "code",
   "execution_count": 3,
   "id": "8df3dd20",
   "metadata": {},
   "outputs": [
    {
     "name": "stdout",
     "output_type": "stream",
     "text": [
      "<class 'tuple'>\n",
      "5\n"
     ]
    }
   ],
   "source": [
    "b = (\"a\", 1, 12, True, False)\n",
    "print(type(b))\n",
    "print(len(b))"
   ]
  },
  {
   "cell_type": "code",
   "execution_count": 4,
   "id": "be4f7df6",
   "metadata": {},
   "outputs": [
    {
     "name": "stdout",
     "output_type": "stream",
     "text": [
      "<class 'dict'>\n",
      "3\n"
     ]
    }
   ],
   "source": [
    "c = {\"a\": 1, \"b\": 2, \"c\": 3}\n",
    "print(type(c))\n",
    "print(len(c))"
   ]
  },
  {
   "cell_type": "code",
   "execution_count": 6,
   "id": "2b9a4e60",
   "metadata": {},
   "outputs": [
    {
     "name": "stdout",
     "output_type": "stream",
     "text": [
      "<class 'list'>\n",
      "15\n"
     ]
    }
   ],
   "source": [
    "d = [1, 2, 3, 4, 5]\n",
    "print(type(d))\n",
    "print(sum(d))"
   ]
  },
  {
   "cell_type": "code",
   "execution_count": 7,
   "id": "b2d2c9dc",
   "metadata": {},
   "outputs": [
    {
     "name": "stdout",
     "output_type": "stream",
     "text": [
      "<class 'tuple'>\n",
      "12\n"
     ]
    }
   ],
   "source": [
    "e = (3, 4, 5)\n",
    "print(type(e))\n",
    "print(sum(e))"
   ]
  },
  {
   "cell_type": "markdown",
   "id": "36aad3a6",
   "metadata": {},
   "source": [
    "2) Polymorphism in Operators"
   ]
  },
  {
   "cell_type": "code",
   "execution_count": 9,
   "id": "61899910",
   "metadata": {},
   "outputs": [
    {
     "name": "stdout",
     "output_type": "stream",
     "text": [
      "7\n"
     ]
    }
   ],
   "source": [
    "a = 3\n",
    "b = 4\n",
    "print(a + b)"
   ]
  },
  {
   "cell_type": "code",
   "execution_count": 10,
   "id": "0b7a12be",
   "metadata": {},
   "outputs": [
    {
     "name": "stdout",
     "output_type": "stream",
     "text": [
      "0.9000000000000004\n"
     ]
    }
   ],
   "source": [
    "c = 11.5\n",
    "d = 10.6\n",
    "print(c - d)"
   ]
  },
  {
   "cell_type": "code",
   "execution_count": 16,
   "id": "2421d285",
   "metadata": {},
   "outputs": [
    {
     "name": "stdout",
     "output_type": "stream",
     "text": [
      "firstlast\n",
      "lastfirst\n"
     ]
    }
   ],
   "source": [
    "# In string concatination takes place\n",
    "# In STRING order of addition is imp\n",
    "\n",
    "e = \"first\"\n",
    "f = \"last\"\n",
    "print(e + f)\n",
    "print(f + e)"
   ]
  },
  {
   "cell_type": "code",
   "execution_count": 14,
   "id": "ffe8c1b0",
   "metadata": {},
   "outputs": [
    {
     "name": "stdout",
     "output_type": "stream",
     "text": [
      "[1, 2, 3, 4, 5, 6]\n",
      "[4, 5, 6, 1, 2, 3]\n"
     ]
    }
   ],
   "source": [
    "# In list it gets merged\n",
    "# In LIST order of addition is imp\n",
    "g = [1, 2, 3]\n",
    "h = [4, 5, 6]\n",
    "print(g + h)\n",
    "print(h + g)"
   ]
  },
  {
   "cell_type": "code",
   "execution_count": 17,
   "id": "5da3c56a",
   "metadata": {},
   "outputs": [
    {
     "data": {
      "text/plain": [
       "[1, 2, 3, 1, 2, 3, 1, 2, 3, 1, 2, 3]"
      ]
     },
     "execution_count": 17,
     "metadata": {},
     "output_type": "execute_result"
    }
   ],
   "source": [
    "[1, 2, 3] * 4"
   ]
  },
  {
   "cell_type": "code",
   "execution_count": 18,
   "id": "5de1fac5",
   "metadata": {},
   "outputs": [
    {
     "data": {
      "text/plain": [
       "7.3500000000000005"
      ]
     },
     "execution_count": 18,
     "metadata": {},
     "output_type": "execute_result"
    }
   ],
   "source": [
    "2.1 * 3.5"
   ]
  },
  {
   "cell_type": "markdown",
   "id": "e2f618eb",
   "metadata": {},
   "source": [
    "3) Polymorphism in classes\n",
    "\n",
    "diff classes but same funt name"
   ]
  },
  {
   "cell_type": "code",
   "execution_count": 20,
   "id": "37105490",
   "metadata": {},
   "outputs": [],
   "source": [
    "class India:\n",
    "    def capital(self):\n",
    "        print(\"New Delhi is Capital of India.\")\n",
    "\n",
    "    def lang(slice):\n",
    "        print(\"Hindi is widely spoken in India.\")"
   ]
  },
  {
   "cell_type": "code",
   "execution_count": 21,
   "id": "ba7b800e",
   "metadata": {},
   "outputs": [],
   "source": [
    "class USA:\n",
    "    def capital(self):\n",
    "        print(\"Washington is Capital of USA.\")\n",
    "\n",
    "    def lang(self):\n",
    "        print(\"Eng is widely spoken in USA\")"
   ]
  },
  {
   "cell_type": "code",
   "execution_count": 22,
   "id": "4d7c9d6e",
   "metadata": {},
   "outputs": [],
   "source": [
    "class France:\n",
    "    def capital(self):\n",
    "        print(\"Paris is Capital of India.\")\n",
    "\n",
    "    def lang(self):\n",
    "        print(\"French is widely spoken in France\")"
   ]
  },
  {
   "cell_type": "code",
   "execution_count": 27,
   "id": "3f679096",
   "metadata": {},
   "outputs": [
    {
     "name": "stdout",
     "output_type": "stream",
     "text": [
      "<class '__main__.India'>\n",
      "New Delhi is Capital of India.\n",
      "Hindi is widely spoken in India.\n"
     ]
    }
   ],
   "source": [
    "c1 = India()\n",
    "print(type(c1))\n",
    "c1.capital()\n",
    "c1.lang()"
   ]
  },
  {
   "cell_type": "code",
   "execution_count": 28,
   "id": "4dffa3bd",
   "metadata": {},
   "outputs": [
    {
     "name": "stdout",
     "output_type": "stream",
     "text": [
      "<class '__main__.France'>\n",
      "Paris is Capital of India.\n",
      "French is widely spoken in France\n"
     ]
    }
   ],
   "source": [
    "c3 = France()\n",
    "print(type(c3))\n",
    "c3.capital()\n",
    "c3.lang()"
   ]
  },
  {
   "cell_type": "code",
   "execution_count": 39,
   "id": "11c11aea",
   "metadata": {},
   "outputs": [
    {
     "name": "stdout",
     "output_type": "stream",
     "text": [
      "<class '__main__.India'>\n",
      "New Delhi is Capital of India.\n",
      "Hindi is widely spoken in India.\n",
      "\n",
      "==================================================\n",
      "\n",
      "<class '__main__.USA'>\n",
      "Washington is Capital of USA.\n",
      "Eng is widely spoken in USA\n",
      "\n",
      "==================================================\n",
      "\n",
      "<class '__main__.France'>\n",
      "Paris is Capital of India.\n",
      "French is widely spoken in France\n",
      "\n",
      "==================================================\n",
      "\n"
     ]
    }
   ],
   "source": [
    "countries = [India(), USA(), France()]\n",
    "for i in countries:\n",
    "    print(type(i))\n",
    "    i.capital()\n",
    "    i.lang()\n",
    "    print(\"\\n\" + \"=\" * 50 + \"\\n\")"
   ]
  },
  {
   "cell_type": "markdown",
   "id": "fa1e118a",
   "metadata": {},
   "source": [
    "4) Polymorphism for diff shapes"
   ]
  },
  {
   "cell_type": "code",
   "execution_count": 58,
   "id": "be3a4ab8",
   "metadata": {},
   "outputs": [],
   "source": [
    "from dataclasses import dataclass\n",
    "\n",
    "\n",
    "@dataclass\n",
    "class Rectangle:\n",
    "    width: int | float\n",
    "    height: int | float\n",
    "\n",
    "    def perimeter(self) -> int | float:\n",
    "        return 2 * (self.width + self.height)\n",
    "\n",
    "    def area(self) -> int | float:\n",
    "        return self.width * self.height"
   ]
  },
  {
   "cell_type": "code",
   "execution_count": 59,
   "id": "6ecb5184",
   "metadata": {},
   "outputs": [],
   "source": [
    "import math\n",
    "\n",
    "math.pi\n",
    "\n",
    "\n",
    "@dataclass\n",
    "class Circle:\n",
    "    radius: int | float\n",
    "\n",
    "    def perimeter(self) -> float:\n",
    "        return 2 * math.pi * self.radius\n",
    "\n",
    "    def area(self) -> float:\n",
    "        return math.pi * (self.radius**2)"
   ]
  },
  {
   "cell_type": "code",
   "execution_count": 60,
   "id": "ef0dd70b",
   "metadata": {},
   "outputs": [
    {
     "name": "stdout",
     "output_type": "stream",
     "text": [
      "Rectangle(width=10, height=5)\n"
     ]
    }
   ],
   "source": [
    "s1 = Rectangle(width=10, height=5)\n",
    "print(s1)"
   ]
  },
  {
   "cell_type": "code",
   "execution_count": 61,
   "id": "d25aa369",
   "metadata": {},
   "outputs": [
    {
     "data": {
      "text/plain": [
       "10"
      ]
     },
     "execution_count": 61,
     "metadata": {},
     "output_type": "execute_result"
    }
   ],
   "source": [
    "s1.width"
   ]
  },
  {
   "cell_type": "code",
   "execution_count": 62,
   "id": "7b5d2f68",
   "metadata": {},
   "outputs": [
    {
     "data": {
      "text/plain": [
       "5"
      ]
     },
     "execution_count": 62,
     "metadata": {},
     "output_type": "execute_result"
    }
   ],
   "source": [
    "s1.height"
   ]
  },
  {
   "cell_type": "code",
   "execution_count": 63,
   "id": "9ff21c14",
   "metadata": {},
   "outputs": [
    {
     "data": {
      "text/plain": [
       "50"
      ]
     },
     "execution_count": 63,
     "metadata": {},
     "output_type": "execute_result"
    }
   ],
   "source": [
    "s1.area()"
   ]
  },
  {
   "cell_type": "code",
   "execution_count": 64,
   "id": "aa0ece75",
   "metadata": {},
   "outputs": [
    {
     "data": {
      "text/plain": [
       "30"
      ]
     },
     "execution_count": 64,
     "metadata": {},
     "output_type": "execute_result"
    }
   ],
   "source": [
    "s1.perimeter()"
   ]
  },
  {
   "cell_type": "code",
   "execution_count": 65,
   "id": "70b1b157",
   "metadata": {},
   "outputs": [
    {
     "name": "stdout",
     "output_type": "stream",
     "text": [
      "Circle(radius=14)\n"
     ]
    }
   ],
   "source": [
    "s2 = Circle(radius=14)\n",
    "print(s2)"
   ]
  },
  {
   "cell_type": "code",
   "execution_count": 66,
   "id": "e41cdfdc",
   "metadata": {},
   "outputs": [
    {
     "data": {
      "text/plain": [
       "14"
      ]
     },
     "execution_count": 66,
     "metadata": {},
     "output_type": "execute_result"
    }
   ],
   "source": [
    "s2.radius"
   ]
  },
  {
   "cell_type": "code",
   "execution_count": 67,
   "id": "48bda04e",
   "metadata": {},
   "outputs": [
    {
     "data": {
      "text/plain": [
       "87.96459430051421"
      ]
     },
     "execution_count": 67,
     "metadata": {},
     "output_type": "execute_result"
    }
   ],
   "source": [
    "s2.perimeter()"
   ]
  },
  {
   "cell_type": "code",
   "execution_count": 68,
   "id": "d272c6a8",
   "metadata": {},
   "outputs": [
    {
     "data": {
      "text/plain": [
       "615.7521601035994"
      ]
     },
     "execution_count": 68,
     "metadata": {},
     "output_type": "execute_result"
    }
   ],
   "source": [
    "s2.area()"
   ]
  },
  {
   "cell_type": "code",
   "execution_count": 70,
   "id": "3a74eb9e",
   "metadata": {},
   "outputs": [],
   "source": [
    "shapes = [\n",
    "    Rectangle(width=15, height=10),\n",
    "    Circle(radius=21),\n",
    "    Rectangle(width=100, height=80),\n",
    "    Circle(radius=40),\n",
    "]"
   ]
  },
  {
   "cell_type": "code",
   "execution_count": 71,
   "id": "76157a54",
   "metadata": {},
   "outputs": [
    {
     "name": "stdout",
     "output_type": "stream",
     "text": [
      "Rectangle(width=15, height=10)\n",
      "Perimeter : 50.00\n",
      "Area : 150.00\n",
      "\n",
      "==================================================\n",
      "\n",
      "Circle(radius=21)\n",
      "Perimeter : 131.95\n",
      "Area : 1385.44\n",
      "\n",
      "==================================================\n",
      "\n",
      "Rectangle(width=100, height=80)\n",
      "Perimeter : 360.00\n",
      "Area : 8000.00\n",
      "\n",
      "==================================================\n",
      "\n",
      "Circle(radius=40)\n",
      "Perimeter : 251.33\n",
      "Area : 5026.55\n",
      "\n",
      "==================================================\n",
      "\n"
     ]
    }
   ],
   "source": [
    "for s in shapes:\n",
    "    print(s)\n",
    "    print(f\"Perimeter : {s.perimeter():.2f}\")\n",
    "    print(f\"Area : {s.area():.2f}\")\n",
    "    print(\"\\n\" + \"=\" * 50 + \"\\n\")"
   ]
  },
  {
   "cell_type": "markdown",
   "id": "0886da00",
   "metadata": {},
   "source": [
    "5) Polymorphism from data analist point of view"
   ]
  },
  {
   "cell_type": "code",
   "execution_count": 33,
   "id": "fda6affb",
   "metadata": {},
   "outputs": [],
   "source": [
    "import numpy as np\n",
    "\n",
    "\n",
    "class NumericalSummary:\n",
    "    def __init__(self, data):\n",
    "        self.data = data\n",
    "\n",
    "    def summary(self):\n",
    "        return {\n",
    "            \"mean\": np.mean(self.data),\n",
    "            \"max\": np.max(self.data),\n",
    "            \"min\": np.min(self.data),\n",
    "            \"std\": np.std(self.data),\n",
    "        }"
   ]
  },
  {
   "cell_type": "code",
   "execution_count": 49,
   "id": "56b84ae9",
   "metadata": {},
   "outputs": [],
   "source": [
    "class CatgoricalSummary:\n",
    "    def __init__(self, data):\n",
    "        self.data = data\n",
    "\n",
    "    def summary(self):\n",
    "        unique_vals, count = np.unique(self.data, return_counts=True)\n",
    "        return dict(zip(unique_vals, count))"
   ]
  },
  {
   "cell_type": "code",
   "execution_count": 50,
   "id": "799226fa",
   "metadata": {},
   "outputs": [
    {
     "name": "stdout",
     "output_type": "stream",
     "text": [
      "{'mean': np.float64(78.4), 'max': np.int64(93), 'min': np.int64(55), 'std': np.float64(13.35065541462291)}\n"
     ]
    }
   ],
   "source": [
    "# Numerical Data\n",
    "marks = [85, 93, 86, 73, 55]\n",
    "a = NumericalSummary(data=marks)\n",
    "print(a.summary())"
   ]
  },
  {
   "cell_type": "code",
   "execution_count": 51,
   "id": "02b30ec0",
   "metadata": {},
   "outputs": [
    {
     "name": "stdout",
     "output_type": "stream",
     "text": [
      "{np.str_('A'): np.int64(2), np.str_('B'): np.int64(3), np.str_('C'): np.int64(1), np.str_('D'): np.int64(2)}\n"
     ]
    }
   ],
   "source": [
    "grades = [\"A\", \"B\", \"C\", \"D\", \"A\", \"D\", \"B\", \"B\"]\n",
    "c = CatgoricalSummary(data=grades)\n",
    "print(c.summary())"
   ]
  },
  {
   "cell_type": "code",
   "execution_count": 53,
   "id": "2cf27e08",
   "metadata": {},
   "outputs": [
    {
     "name": "stdout",
     "output_type": "stream",
     "text": [
      "{'mean': np.float64(17.78), 'max': np.float64(25.0), 'min': np.float64(11.5), 'std': np.float64(5.4645768363158735)}\n"
     ]
    }
   ],
   "source": [
    "temp = (12.3, 11.5, 17.1, 23, 25)\n",
    "b = NumericalSummary(data=temp)\n",
    "print(b.summary())"
   ]
  },
  {
   "cell_type": "code",
   "execution_count": null,
   "id": "56ee4ce4",
   "metadata": {},
   "outputs": [],
   "source": []
  }
 ],
 "metadata": {
  "kernelspec": {
   "display_name": "Adv_Python_Codes_11.30",
   "language": "python",
   "name": "python3"
  },
  "language_info": {
   "codemirror_mode": {
    "name": "ipython",
    "version": 3
   },
   "file_extension": ".py",
   "mimetype": "text/x-python",
   "name": "python",
   "nbconvert_exporter": "python",
   "pygments_lexer": "ipython3",
   "version": "3.12.7"
  }
 },
 "nbformat": 4,
 "nbformat_minor": 5
}
