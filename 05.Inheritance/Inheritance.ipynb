{
 "cells": [
  {
   "cell_type": "markdown",
   "id": "b76bc2ae",
   "metadata": {},
   "source": [
    "# 1.Single inheritance\n",
    "1.  1 child 1 parent class."
   ]
  },
  {
   "cell_type": "code",
   "execution_count": 11,
   "id": "4270169b",
   "metadata": {},
   "outputs": [],
   "source": [
    "class Person:\n",
    "    def __init__(self, name: str, age: int):\n",
    "        self.name = name\n",
    "        self.age = age\n",
    "\n",
    "    def intro(self):\n",
    "        print(f\"My name is {self.name}\")\n",
    "        print(f\"I am {self.age} years old\")"
   ]
  },
  {
   "cell_type": "code",
   "execution_count": 23,
   "id": "43fbf682",
   "metadata": {},
   "outputs": [],
   "source": [
    "class Emp(Person):\n",
    "    def __init__(self, name: str, age: int, company: str):\n",
    "        super().__init__(name, age)\n",
    "        self.company = company\n",
    "\n",
    "    def work(self):\n",
    "        print(f\"I work at {self.company}\")"
   ]
  },
  {
   "cell_type": "code",
   "execution_count": 24,
   "id": "f8b310f0",
   "metadata": {},
   "outputs": [
    {
     "name": "stdout",
     "output_type": "stream",
     "text": [
      "<class '__main__.Person'>\n"
     ]
    }
   ],
   "source": [
    "p1 = Person(name=\"Om\", age=21)\n",
    "print(type(p1))"
   ]
  },
  {
   "cell_type": "code",
   "execution_count": 25,
   "id": "44d91396",
   "metadata": {},
   "outputs": [
    {
     "data": {
      "text/plain": [
       "'Om'"
      ]
     },
     "execution_count": 25,
     "metadata": {},
     "output_type": "execute_result"
    }
   ],
   "source": [
    "p1.name"
   ]
  },
  {
   "cell_type": "code",
   "execution_count": 26,
   "id": "f73346b0",
   "metadata": {},
   "outputs": [
    {
     "data": {
      "text/plain": [
       "21"
      ]
     },
     "execution_count": 26,
     "metadata": {},
     "output_type": "execute_result"
    }
   ],
   "source": [
    "p1.age"
   ]
  },
  {
   "cell_type": "code",
   "execution_count": 27,
   "id": "299a1d59",
   "metadata": {},
   "outputs": [
    {
     "name": "stdout",
     "output_type": "stream",
     "text": [
      "My name is Om\n",
      "I am 21 years old\n"
     ]
    }
   ],
   "source": [
    "p1.intro()"
   ]
  },
  {
   "cell_type": "code",
   "execution_count": 28,
   "id": "c738617c",
   "metadata": {},
   "outputs": [
    {
     "name": "stdout",
     "output_type": "stream",
     "text": [
      "<class '__main__.Emp'>\n"
     ]
    }
   ],
   "source": [
    "e1 = Emp(name=\"Arya\", age=21, company=\"TCS\")\n",
    "print(type(e1))"
   ]
  },
  {
   "cell_type": "code",
   "execution_count": 29,
   "id": "dec0b452",
   "metadata": {},
   "outputs": [
    {
     "data": {
      "text/plain": [
       "'Arya'"
      ]
     },
     "execution_count": 29,
     "metadata": {},
     "output_type": "execute_result"
    }
   ],
   "source": [
    "e1.name"
   ]
  },
  {
   "cell_type": "code",
   "execution_count": 30,
   "id": "49c888c1",
   "metadata": {},
   "outputs": [
    {
     "data": {
      "text/plain": [
       "21"
      ]
     },
     "execution_count": 30,
     "metadata": {},
     "output_type": "execute_result"
    }
   ],
   "source": [
    "e1.age"
   ]
  },
  {
   "cell_type": "code",
   "execution_count": 31,
   "id": "d2bfe1c4",
   "metadata": {},
   "outputs": [
    {
     "data": {
      "text/plain": [
       "'TCS'"
      ]
     },
     "execution_count": 31,
     "metadata": {},
     "output_type": "execute_result"
    }
   ],
   "source": [
    "e1.company"
   ]
  },
  {
   "cell_type": "code",
   "execution_count": 33,
   "id": "9b9317c4",
   "metadata": {},
   "outputs": [
    {
     "name": "stdout",
     "output_type": "stream",
     "text": [
      "I work at TCS\n"
     ]
    }
   ],
   "source": [
    "e1.work()"
   ]
  },
  {
   "cell_type": "code",
   "execution_count": 35,
   "id": "f857cafb",
   "metadata": {},
   "outputs": [
    {
     "name": "stdout",
     "output_type": "stream",
     "text": [
      "My name is Arya\n",
      "I am 21 years old\n"
     ]
    }
   ],
   "source": [
    "e1.intro()  # here intro funct gets inherited from parent class"
   ]
  },
  {
   "cell_type": "code",
   "execution_count": 37,
   "id": "df3cada7",
   "metadata": {},
   "outputs": [
    {
     "name": "stdout",
     "output_type": "stream",
     "text": [
      "My name is Arya\n",
      "I am 21 years old\n",
      "I work at TCS\n"
     ]
    }
   ],
   "source": [
    "e1.intro()\n",
    "e1.work()"
   ]
  },
  {
   "cell_type": "markdown",
   "id": "7433bcbd",
   "metadata": {},
   "source": [
    "# Pydantic \n",
    "- used for data validation in inheritance.\n",
    "- Conditions in pydantic\n",
    "1) ge=greater than or equal to\n",
    "2) le=less than or equal to\n",
    "3) gt=greater than\n",
    "4) lt=less than\n",
    "- base = used in pydantic for validation of data\n",
    "- field = used to add some checks to data"
   ]
  },
  {
   "cell_type": "code",
   "execution_count": 38,
   "id": "277c9aaa",
   "metadata": {},
   "outputs": [],
   "source": [
    "from pydantic import BaseModel, Field\n",
    "from typing import Literal"
   ]
  },
  {
   "cell_type": "code",
   "execution_count": 39,
   "id": "19d1a601",
   "metadata": {},
   "outputs": [],
   "source": [
    "class Student(BaseModel):\n",
    "    roll_no: int = Field(ge=101, le=1000)\n",
    "    name: str = Field(max_length=20)\n",
    "    age: int = Field(ge=18, le=100)\n",
    "    marks: float = Field(ge=0.0, le=100.0)\n",
    "    gender: Literal[\"male\", \"female\"]\n",
    "    hobbies: list[str] = Field(default_factory=list)\n",
    "\n",
    "    def get_student_info(self):\n",
    "        print(f\"Roll Number : {self.roll_no}\")\n",
    "        print(f\"Name : {self.name}\")\n",
    "        print(f\"Marks : {self.marks}\")\n",
    "        print(f\"Gender : {self.gender}\")\n",
    "        print(f\"Hobbies : {self.hobbies}\")"
   ]
  },
  {
   "cell_type": "code",
   "execution_count": 40,
   "id": "fca16b7f",
   "metadata": {},
   "outputs": [],
   "source": [
    "s1 = Student(\n",
    "    roll_no=101,\n",
    "    name=\"Raman\",\n",
    "    age=25,\n",
    "    marks=85.3,\n",
    "    gender=\"male\",\n",
    "    hobbies=[\"cricket\", \"singing\"],\n",
    ")"
   ]
  },
  {
   "cell_type": "code",
   "execution_count": 41,
   "id": "7416ab09",
   "metadata": {},
   "outputs": [
    {
     "data": {
      "text/plain": [
       "101"
      ]
     },
     "execution_count": 41,
     "metadata": {},
     "output_type": "execute_result"
    }
   ],
   "source": [
    "s1.roll_no"
   ]
  },
  {
   "cell_type": "code",
   "execution_count": 42,
   "id": "0addd984",
   "metadata": {},
   "outputs": [
    {
     "data": {
      "text/plain": [
       "'Raman'"
      ]
     },
     "execution_count": 42,
     "metadata": {},
     "output_type": "execute_result"
    }
   ],
   "source": [
    "s1.name"
   ]
  },
  {
   "cell_type": "code",
   "execution_count": 43,
   "id": "612d875b",
   "metadata": {},
   "outputs": [
    {
     "data": {
      "text/plain": [
       "25"
      ]
     },
     "execution_count": 43,
     "metadata": {},
     "output_type": "execute_result"
    }
   ],
   "source": [
    "s1.age"
   ]
  },
  {
   "cell_type": "code",
   "execution_count": 44,
   "id": "b3b4c58a",
   "metadata": {},
   "outputs": [
    {
     "data": {
      "text/plain": [
       "85.3"
      ]
     },
     "execution_count": 44,
     "metadata": {},
     "output_type": "execute_result"
    }
   ],
   "source": [
    "s1.marks"
   ]
  },
  {
   "cell_type": "code",
   "execution_count": 45,
   "id": "8aaab0c0",
   "metadata": {},
   "outputs": [
    {
     "data": {
      "text/plain": [
       "'male'"
      ]
     },
     "execution_count": 45,
     "metadata": {},
     "output_type": "execute_result"
    }
   ],
   "source": [
    "s1.gender"
   ]
  },
  {
   "cell_type": "code",
   "execution_count": 46,
   "id": "c2047bb2",
   "metadata": {},
   "outputs": [
    {
     "data": {
      "text/plain": [
       "['cricket', 'singing']"
      ]
     },
     "execution_count": 46,
     "metadata": {},
     "output_type": "execute_result"
    }
   ],
   "source": [
    "s1.hobbies"
   ]
  },
  {
   "cell_type": "code",
   "execution_count": 47,
   "id": "c1390c21",
   "metadata": {},
   "outputs": [
    {
     "name": "stdout",
     "output_type": "stream",
     "text": [
      "Roll Number : 101\n",
      "Name : Raman\n",
      "Marks : 85.3\n",
      "Gender : male\n",
      "Hobbies : ['cricket', 'singing']\n"
     ]
    }
   ],
   "source": [
    "s1.get_student_info()"
   ]
  },
  {
   "cell_type": "code",
   "execution_count": 48,
   "id": "b33c701d",
   "metadata": {},
   "outputs": [
    {
     "data": {
      "text/plain": [
       "Student(roll_no=101, name='Raman', age=25, marks=85.3, gender='male', hobbies=['cricket', 'singing'])"
      ]
     },
     "execution_count": 48,
     "metadata": {},
     "output_type": "execute_result"
    }
   ],
   "source": [
    "s1"
   ]
  },
  {
   "cell_type": "code",
   "execution_count": 49,
   "id": "20a99a85",
   "metadata": {},
   "outputs": [
    {
     "name": "stdout",
     "output_type": "stream",
     "text": [
      "roll_no=101 name='Raman' age=25 marks=85.3 gender='male' hobbies=['cricket', 'singing']\n"
     ]
    }
   ],
   "source": [
    "print(s1)"
   ]
  },
  {
   "cell_type": "code",
   "execution_count": 51,
   "id": "7b4df443",
   "metadata": {},
   "outputs": [
    {
     "data": {
      "text/plain": [
       "<bound method BaseModel.model_dump of Student(roll_no=101, name='Raman', age=25, marks=85.3, gender='male', hobbies=['cricket', 'singing'])>"
      ]
     },
     "execution_count": 51,
     "metadata": {},
     "output_type": "execute_result"
    }
   ],
   "source": [
    "s1.model_dump"
   ]
  },
  {
   "cell_type": "code",
   "execution_count": 52,
   "id": "be84eea2",
   "metadata": {},
   "outputs": [
    {
     "ename": "ValidationError",
     "evalue": "6 validation errors for Student\nroll_no\n  Input should be a valid integer, got a number with a fractional part [type=int_from_float, input_value=105.2, input_type=float]\n    For further information visit https://errors.pydantic.dev/2.11/v/int_from_float\nname\n  Input should be a valid string [type=string_type, input_value=12, input_type=int]\n    For further information visit https://errors.pydantic.dev/2.11/v/string_type\nage\n  Input should be less than or equal to 100 [type=less_than_equal, input_value=200, input_type=int]\n    For further information visit https://errors.pydantic.dev/2.11/v/less_than_equal\nmarks\n  Input should be greater than or equal to 0 [type=greater_than_equal, input_value=-5.3, input_type=float]\n    For further information visit https://errors.pydantic.dev/2.11/v/greater_than_equal\ngender\n  Input should be 'male' or 'female' [type=literal_error, input_value='M', input_type=str]\n    For further information visit https://errors.pydantic.dev/2.11/v/literal_error\nhobbies\n  Input should be a valid list [type=list_type, input_value='singing', input_type=str]\n    For further information visit https://errors.pydantic.dev/2.11/v/list_type",
     "output_type": "error",
     "traceback": [
      "\u001b[31m---------------------------------------------------------------------------\u001b[39m",
      "\u001b[31mValidationError\u001b[39m                           Traceback (most recent call last)",
      "\u001b[36mCell\u001b[39m\u001b[36m \u001b[39m\u001b[32mIn[52]\u001b[39m\u001b[32m, line 1\u001b[39m\n\u001b[32m----> \u001b[39m\u001b[32m1\u001b[39m s2 = \u001b[43mStudent\u001b[49m\u001b[43m(\u001b[49m\u001b[43mroll_no\u001b[49m\u001b[43m=\u001b[49m\u001b[32;43m105.2\u001b[39;49m\u001b[43m,\u001b[49m\u001b[43m \u001b[49m\u001b[43mname\u001b[49m\u001b[43m=\u001b[49m\u001b[32;43m12\u001b[39;49m\u001b[43m,\u001b[49m\u001b[43m \u001b[49m\u001b[43mage\u001b[49m\u001b[43m=\u001b[49m\u001b[32;43m200\u001b[39;49m\u001b[43m,\u001b[49m\u001b[43m \u001b[49m\u001b[43mmarks\u001b[49m\u001b[43m=\u001b[49m\u001b[43m-\u001b[49m\u001b[32;43m5.3\u001b[39;49m\u001b[43m,\u001b[49m\u001b[43m \u001b[49m\u001b[43mhobbies\u001b[49m\u001b[43m=\u001b[49m\u001b[33;43m\"\u001b[39;49m\u001b[33;43msinging\u001b[39;49m\u001b[33;43m\"\u001b[39;49m\u001b[43m,\u001b[49m\u001b[43m \u001b[49m\u001b[43mgender\u001b[49m\u001b[43m=\u001b[49m\u001b[33;43m\"\u001b[39;49m\u001b[33;43mM\u001b[39;49m\u001b[33;43m\"\u001b[39;49m\u001b[43m)\u001b[49m\n",
      "\u001b[36mFile \u001b[39m\u001b[32md:\\Adv_Python Classword\\Adv_Python_Codes_11.30\\.venv\\Lib\\site-packages\\pydantic\\main.py:253\u001b[39m, in \u001b[36mBaseModel.__init__\u001b[39m\u001b[34m(self, **data)\u001b[39m\n\u001b[32m    251\u001b[39m \u001b[38;5;66;03m# `__tracebackhide__` tells pytest and some other tools to omit this function from tracebacks\u001b[39;00m\n\u001b[32m    252\u001b[39m __tracebackhide__ = \u001b[38;5;28;01mTrue\u001b[39;00m\n\u001b[32m--> \u001b[39m\u001b[32m253\u001b[39m validated_self = \u001b[38;5;28;43mself\u001b[39;49m\u001b[43m.\u001b[49m\u001b[43m__pydantic_validator__\u001b[49m\u001b[43m.\u001b[49m\u001b[43mvalidate_python\u001b[49m\u001b[43m(\u001b[49m\u001b[43mdata\u001b[49m\u001b[43m,\u001b[49m\u001b[43m \u001b[49m\u001b[43mself_instance\u001b[49m\u001b[43m=\u001b[49m\u001b[38;5;28;43mself\u001b[39;49m\u001b[43m)\u001b[49m\n\u001b[32m    254\u001b[39m \u001b[38;5;28;01mif\u001b[39;00m \u001b[38;5;28mself\u001b[39m \u001b[38;5;129;01mis\u001b[39;00m \u001b[38;5;129;01mnot\u001b[39;00m validated_self:\n\u001b[32m    255\u001b[39m     warnings.warn(\n\u001b[32m    256\u001b[39m         \u001b[33m'\u001b[39m\u001b[33mA custom validator is returning a value other than `self`.\u001b[39m\u001b[38;5;130;01m\\n\u001b[39;00m\u001b[33m'\u001b[39m\n\u001b[32m    257\u001b[39m         \u001b[33m\"\u001b[39m\u001b[33mReturning anything other than `self` from a top level model validator isn\u001b[39m\u001b[33m'\u001b[39m\u001b[33mt supported when validating via `__init__`.\u001b[39m\u001b[38;5;130;01m\\n\u001b[39;00m\u001b[33m\"\u001b[39m\n\u001b[32m    258\u001b[39m         \u001b[33m'\u001b[39m\u001b[33mSee the `model_validator` docs (https://docs.pydantic.dev/latest/concepts/validators/#model-validators) for more details.\u001b[39m\u001b[33m'\u001b[39m,\n\u001b[32m    259\u001b[39m         stacklevel=\u001b[32m2\u001b[39m,\n\u001b[32m    260\u001b[39m     )\n",
      "\u001b[31mValidationError\u001b[39m: 6 validation errors for Student\nroll_no\n  Input should be a valid integer, got a number with a fractional part [type=int_from_float, input_value=105.2, input_type=float]\n    For further information visit https://errors.pydantic.dev/2.11/v/int_from_float\nname\n  Input should be a valid string [type=string_type, input_value=12, input_type=int]\n    For further information visit https://errors.pydantic.dev/2.11/v/string_type\nage\n  Input should be less than or equal to 100 [type=less_than_equal, input_value=200, input_type=int]\n    For further information visit https://errors.pydantic.dev/2.11/v/less_than_equal\nmarks\n  Input should be greater than or equal to 0 [type=greater_than_equal, input_value=-5.3, input_type=float]\n    For further information visit https://errors.pydantic.dev/2.11/v/greater_than_equal\ngender\n  Input should be 'male' or 'female' [type=literal_error, input_value='M', input_type=str]\n    For further information visit https://errors.pydantic.dev/2.11/v/literal_error\nhobbies\n  Input should be a valid list [type=list_type, input_value='singing', input_type=str]\n    For further information visit https://errors.pydantic.dev/2.11/v/list_type"
     ]
    }
   ],
   "source": [
    "s2 = Student(roll_no=105.2, name=12, age=200, marks=-5.3, hobbies=\"singing\", gender=\"M\")"
   ]
  },
  {
   "cell_type": "code",
   "execution_count": 53,
   "id": "ac3b800b",
   "metadata": {},
   "outputs": [],
   "source": [
    "s3 = Student(\n",
    "    roll_no=102,\n",
    "    name=\"Priya\",\n",
    "    age=33,\n",
    "    marks=67.5,\n",
    "    gender=\"female\",\n",
    ")"
   ]
  },
  {
   "cell_type": "code",
   "execution_count": 54,
   "id": "4d3af4a1",
   "metadata": {},
   "outputs": [
    {
     "data": {
      "text/plain": [
       "Student(roll_no=102, name='Priya', age=33, marks=67.5, gender='female', hobbies=[])"
      ]
     },
     "execution_count": 54,
     "metadata": {},
     "output_type": "execute_result"
    }
   ],
   "source": [
    "s3"
   ]
  },
  {
   "cell_type": "code",
   "execution_count": 55,
   "id": "42f6e236",
   "metadata": {},
   "outputs": [
    {
     "name": "stdout",
     "output_type": "stream",
     "text": [
      "Roll Number : 102\n",
      "Name : Priya\n",
      "Marks : 67.5\n",
      "Gender : female\n",
      "Hobbies : []\n"
     ]
    }
   ],
   "source": [
    "s3.get_student_info()"
   ]
  },
  {
   "cell_type": "code",
   "execution_count": null,
   "id": "a02f47aa",
   "metadata": {},
   "outputs": [
    {
     "data": {
      "text/plain": [
       "{'roll_no': 102,\n",
       " 'name': 'Priya',\n",
       " 'age': 33,\n",
       " 'marks': 67.5,\n",
       " 'gender': 'female',\n",
       " 'hobbies': []}"
      ]
     },
     "execution_count": 56,
     "metadata": {},
     "output_type": "execute_result"
    }
   ],
   "source": [
    "# model dump function is inherited from BaseModel\n",
    "s3.model_dump() "
   ]
  },
  {
   "cell_type": "code",
   "execution_count": null,
   "id": "9bdcaa87",
   "metadata": {},
   "outputs": [],
   "source": []
  }
 ],
 "metadata": {
  "kernelspec": {
   "display_name": "Adv_Python_Codes_11.30",
   "language": "python",
   "name": "python3"
  },
  "language_info": {
   "codemirror_mode": {
    "name": "ipython",
    "version": 3
   },
   "file_extension": ".py",
   "mimetype": "text/x-python",
   "name": "python",
   "nbconvert_exporter": "python",
   "pygments_lexer": "ipython3",
   "version": "3.12.7"
  }
 },
 "nbformat": 4,
 "nbformat_minor": 5
}
