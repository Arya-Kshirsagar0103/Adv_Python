{
 "cells": [
  {
   "cell_type": "markdown",
   "id": "b76bc2ae",
   "metadata": {},
   "source": [
    "# 1.Single inheritance\n",
    "1.  1 child 1 parent class."
   ]
  },
  {
   "cell_type": "code",
   "execution_count": 11,
   "id": "4270169b",
   "metadata": {},
   "outputs": [],
   "source": [
    "class Person:\n",
    "    def __init__(self, name: str, age: int):\n",
    "        self.name = name\n",
    "        self.age = age\n",
    "\n",
    "    def intro(self):\n",
    "        print(f\"My name is {self.name}\")\n",
    "        print(f\"I am {self.age} years old\")"
   ]
  },
  {
   "cell_type": "code",
   "execution_count": 23,
   "id": "43fbf682",
   "metadata": {},
   "outputs": [],
   "source": [
    "class Emp(Person):\n",
    "    def __init__(self, name: str, age: int, company: str):\n",
    "        super().__init__(name, age)\n",
    "        self.company = company\n",
    "\n",
    "    def work(self):\n",
    "        print(f\"I work at {self.company}\")"
   ]
  },
  {
   "cell_type": "code",
   "execution_count": 24,
   "id": "f8b310f0",
   "metadata": {},
   "outputs": [
    {
     "name": "stdout",
     "output_type": "stream",
     "text": [
      "<class '__main__.Person'>\n"
     ]
    }
   ],
   "source": [
    "p1 = Person(name=\"Om\", age=21)\n",
    "print(type(p1))"
   ]
  },
  {
   "cell_type": "code",
   "execution_count": 25,
   "id": "44d91396",
   "metadata": {},
   "outputs": [
    {
     "data": {
      "text/plain": [
       "'Om'"
      ]
     },
     "execution_count": 25,
     "metadata": {},
     "output_type": "execute_result"
    }
   ],
   "source": [
    "p1.name"
   ]
  },
  {
   "cell_type": "code",
   "execution_count": 26,
   "id": "f73346b0",
   "metadata": {},
   "outputs": [
    {
     "data": {
      "text/plain": [
       "21"
      ]
     },
     "execution_count": 26,
     "metadata": {},
     "output_type": "execute_result"
    }
   ],
   "source": [
    "p1.age"
   ]
  },
  {
   "cell_type": "code",
   "execution_count": 27,
   "id": "299a1d59",
   "metadata": {},
   "outputs": [
    {
     "name": "stdout",
     "output_type": "stream",
     "text": [
      "My name is Om\n",
      "I am 21 years old\n"
     ]
    }
   ],
   "source": [
    "p1.intro()"
   ]
  },
  {
   "cell_type": "code",
   "execution_count": 28,
   "id": "c738617c",
   "metadata": {},
   "outputs": [
    {
     "name": "stdout",
     "output_type": "stream",
     "text": [
      "<class '__main__.Emp'>\n"
     ]
    }
   ],
   "source": [
    "e1 = Emp(name=\"Arya\", age=21, company=\"TCS\")\n",
    "print(type(e1))"
   ]
  },
  {
   "cell_type": "code",
   "execution_count": 29,
   "id": "dec0b452",
   "metadata": {},
   "outputs": [
    {
     "data": {
      "text/plain": [
       "'Arya'"
      ]
     },
     "execution_count": 29,
     "metadata": {},
     "output_type": "execute_result"
    }
   ],
   "source": [
    "e1.name"
   ]
  },
  {
   "cell_type": "code",
   "execution_count": 30,
   "id": "49c888c1",
   "metadata": {},
   "outputs": [
    {
     "data": {
      "text/plain": [
       "21"
      ]
     },
     "execution_count": 30,
     "metadata": {},
     "output_type": "execute_result"
    }
   ],
   "source": [
    "e1.age"
   ]
  },
  {
   "cell_type": "code",
   "execution_count": 31,
   "id": "d2bfe1c4",
   "metadata": {},
   "outputs": [
    {
     "data": {
      "text/plain": [
       "'TCS'"
      ]
     },
     "execution_count": 31,
     "metadata": {},
     "output_type": "execute_result"
    }
   ],
   "source": [
    "e1.company"
   ]
  },
  {
   "cell_type": "code",
   "execution_count": 33,
   "id": "9b9317c4",
   "metadata": {},
   "outputs": [
    {
     "name": "stdout",
     "output_type": "stream",
     "text": [
      "I work at TCS\n"
     ]
    }
   ],
   "source": [
    "e1.work()"
   ]
  },
  {
   "cell_type": "code",
   "execution_count": 35,
   "id": "f857cafb",
   "metadata": {},
   "outputs": [
    {
     "name": "stdout",
     "output_type": "stream",
     "text": [
      "My name is Arya\n",
      "I am 21 years old\n"
     ]
    }
   ],
   "source": [
    "e1.intro()  # here intro funct gets inherited from parent class"
   ]
  },
  {
   "cell_type": "code",
   "execution_count": 37,
   "id": "df3cada7",
   "metadata": {},
   "outputs": [
    {
     "name": "stdout",
     "output_type": "stream",
     "text": [
      "My name is Arya\n",
      "I am 21 years old\n",
      "I work at TCS\n"
     ]
    }
   ],
   "source": [
    "e1.intro()\n",
    "e1.work()"
   ]
  },
  {
   "cell_type": "markdown",
   "id": "7433bcbd",
   "metadata": {},
   "source": [
    "# Pydantic \n",
    "- used for data validation in inheritance.\n",
    "- Conditions in pydantic\n",
    "1) ge=greater than or equal to\n",
    "2) le=less than or equal to\n",
    "3) gt=greater than\n",
    "4) lt=less than\n",
    "- base = used in pydantic for validation of data\n",
    "- field = used to add some checks to data"
   ]
  },
  {
   "cell_type": "code",
   "execution_count": 65,
   "id": "277c9aaa",
   "metadata": {},
   "outputs": [],
   "source": [
    "from pydantic import BaseModel, Field\n",
    "from typing import Literal"
   ]
  },
  {
   "cell_type": "code",
   "execution_count": 66,
   "id": "19d1a601",
   "metadata": {},
   "outputs": [],
   "source": [
    "class Student(BaseModel):\n",
    "    roll_no: int = Field(ge=101, le=1000)\n",
    "    name: str = Field(max_length=20)\n",
    "    age: int = Field(ge=18, le=100)\n",
    "    marks: float = Field(ge=0.0, le=100.0)\n",
    "    gender: Literal[\"male\", \"female\"]\n",
    "    hobbies: list[str] = Field(default_factory=list)\n",
    "\n",
    "    def get_student_info(self):\n",
    "        print(f\"Roll Number : {self.roll_no}\")\n",
    "        print(f\"Name : {self.name}\")\n",
    "        print(f\"Marks : {self.marks}\")\n",
    "        print(f\"Gender : {self.gender}\")\n",
    "        print(f\"Hobbies : {self.hobbies}\")"
   ]
  },
  {
   "cell_type": "code",
   "execution_count": 67,
   "id": "fca16b7f",
   "metadata": {},
   "outputs": [],
   "source": [
    "s1 = Student(\n",
    "    roll_no=101,\n",
    "    name=\"Raman\",\n",
    "    age=25,\n",
    "    marks=85.3,\n",
    "    gender=\"male\",\n",
    "    hobbies=[\"cricket\", \"singing\"],\n",
    ")"
   ]
  },
  {
   "cell_type": "code",
   "execution_count": 68,
   "id": "7416ab09",
   "metadata": {},
   "outputs": [
    {
     "data": {
      "text/plain": [
       "101"
      ]
     },
     "execution_count": 68,
     "metadata": {},
     "output_type": "execute_result"
    }
   ],
   "source": [
    "s1.roll_no"
   ]
  },
  {
   "cell_type": "code",
   "execution_count": 69,
   "id": "0addd984",
   "metadata": {},
   "outputs": [
    {
     "data": {
      "text/plain": [
       "'Raman'"
      ]
     },
     "execution_count": 69,
     "metadata": {},
     "output_type": "execute_result"
    }
   ],
   "source": [
    "s1.name"
   ]
  },
  {
   "cell_type": "code",
   "execution_count": 70,
   "id": "612d875b",
   "metadata": {},
   "outputs": [
    {
     "data": {
      "text/plain": [
       "25"
      ]
     },
     "execution_count": 70,
     "metadata": {},
     "output_type": "execute_result"
    }
   ],
   "source": [
    "s1.age"
   ]
  },
  {
   "cell_type": "code",
   "execution_count": 71,
   "id": "b3b4c58a",
   "metadata": {},
   "outputs": [
    {
     "data": {
      "text/plain": [
       "85.3"
      ]
     },
     "execution_count": 71,
     "metadata": {},
     "output_type": "execute_result"
    }
   ],
   "source": [
    "s1.marks"
   ]
  },
  {
   "cell_type": "code",
   "execution_count": 72,
   "id": "8aaab0c0",
   "metadata": {},
   "outputs": [
    {
     "data": {
      "text/plain": [
       "'male'"
      ]
     },
     "execution_count": 72,
     "metadata": {},
     "output_type": "execute_result"
    }
   ],
   "source": [
    "s1.gender"
   ]
  },
  {
   "cell_type": "code",
   "execution_count": 73,
   "id": "c2047bb2",
   "metadata": {},
   "outputs": [
    {
     "data": {
      "text/plain": [
       "['cricket', 'singing']"
      ]
     },
     "execution_count": 73,
     "metadata": {},
     "output_type": "execute_result"
    }
   ],
   "source": [
    "s1.hobbies"
   ]
  },
  {
   "cell_type": "code",
   "execution_count": 74,
   "id": "c1390c21",
   "metadata": {},
   "outputs": [
    {
     "name": "stdout",
     "output_type": "stream",
     "text": [
      "Roll Number : 101\n",
      "Name : Raman\n",
      "Marks : 85.3\n",
      "Gender : male\n",
      "Hobbies : ['cricket', 'singing']\n"
     ]
    }
   ],
   "source": [
    "s1.get_student_info()"
   ]
  },
  {
   "cell_type": "code",
   "execution_count": 75,
   "id": "b33c701d",
   "metadata": {},
   "outputs": [
    {
     "data": {
      "text/plain": [
       "Student(roll_no=101, name='Raman', age=25, marks=85.3, gender='male', hobbies=['cricket', 'singing'])"
      ]
     },
     "execution_count": 75,
     "metadata": {},
     "output_type": "execute_result"
    }
   ],
   "source": [
    "s1"
   ]
  },
  {
   "cell_type": "code",
   "execution_count": 76,
   "id": "20a99a85",
   "metadata": {},
   "outputs": [
    {
     "name": "stdout",
     "output_type": "stream",
     "text": [
      "roll_no=101 name='Raman' age=25 marks=85.3 gender='male' hobbies=['cricket', 'singing']\n"
     ]
    }
   ],
   "source": [
    "print(s1)"
   ]
  },
  {
   "cell_type": "code",
   "execution_count": 77,
   "id": "7b4df443",
   "metadata": {},
   "outputs": [
    {
     "data": {
      "text/plain": [
       "<bound method BaseModel.model_dump of Student(roll_no=101, name='Raman', age=25, marks=85.3, gender='male', hobbies=['cricket', 'singing'])>"
      ]
     },
     "execution_count": 77,
     "metadata": {},
     "output_type": "execute_result"
    }
   ],
   "source": [
    "s1.model_dump"
   ]
  },
  {
   "cell_type": "code",
   "execution_count": 78,
   "id": "be84eea2",
   "metadata": {},
   "outputs": [
    {
     "ename": "ValidationError",
     "evalue": "6 validation errors for Student\nroll_no\n  Input should be a valid integer, got a number with a fractional part [type=int_from_float, input_value=105.2, input_type=float]\n    For further information visit https://errors.pydantic.dev/2.11/v/int_from_float\nname\n  Input should be a valid string [type=string_type, input_value=12, input_type=int]\n    For further information visit https://errors.pydantic.dev/2.11/v/string_type\nage\n  Input should be less than or equal to 100 [type=less_than_equal, input_value=200, input_type=int]\n    For further information visit https://errors.pydantic.dev/2.11/v/less_than_equal\nmarks\n  Input should be greater than or equal to 0 [type=greater_than_equal, input_value=-5.3, input_type=float]\n    For further information visit https://errors.pydantic.dev/2.11/v/greater_than_equal\ngender\n  Input should be 'male' or 'female' [type=literal_error, input_value='M', input_type=str]\n    For further information visit https://errors.pydantic.dev/2.11/v/literal_error\nhobbies\n  Input should be a valid list [type=list_type, input_value='singing', input_type=str]\n    For further information visit https://errors.pydantic.dev/2.11/v/list_type",
     "output_type": "error",
     "traceback": [
      "\u001b[31m---------------------------------------------------------------------------\u001b[39m",
      "\u001b[31mValidationError\u001b[39m                           Traceback (most recent call last)",
      "\u001b[36mCell\u001b[39m\u001b[36m \u001b[39m\u001b[32mIn[78]\u001b[39m\u001b[32m, line 1\u001b[39m\n\u001b[32m----> \u001b[39m\u001b[32m1\u001b[39m s2 = \u001b[43mStudent\u001b[49m\u001b[43m(\u001b[49m\u001b[43mroll_no\u001b[49m\u001b[43m=\u001b[49m\u001b[32;43m105.2\u001b[39;49m\u001b[43m,\u001b[49m\u001b[43m \u001b[49m\u001b[43mname\u001b[49m\u001b[43m=\u001b[49m\u001b[32;43m12\u001b[39;49m\u001b[43m,\u001b[49m\u001b[43m \u001b[49m\u001b[43mage\u001b[49m\u001b[43m=\u001b[49m\u001b[32;43m200\u001b[39;49m\u001b[43m,\u001b[49m\u001b[43m \u001b[49m\u001b[43mmarks\u001b[49m\u001b[43m=\u001b[49m\u001b[43m-\u001b[49m\u001b[32;43m5.3\u001b[39;49m\u001b[43m,\u001b[49m\u001b[43m \u001b[49m\u001b[43mhobbies\u001b[49m\u001b[43m=\u001b[49m\u001b[33;43m\"\u001b[39;49m\u001b[33;43msinging\u001b[39;49m\u001b[33;43m\"\u001b[39;49m\u001b[43m,\u001b[49m\u001b[43m \u001b[49m\u001b[43mgender\u001b[49m\u001b[43m=\u001b[49m\u001b[33;43m\"\u001b[39;49m\u001b[33;43mM\u001b[39;49m\u001b[33;43m\"\u001b[39;49m\u001b[43m)\u001b[49m\n",
      "\u001b[36mFile \u001b[39m\u001b[32md:\\Adv_Python Classwork\\Adv_Python_Codes_11.30\\.venv\\Lib\\site-packages\\pydantic\\main.py:253\u001b[39m, in \u001b[36mBaseModel.__init__\u001b[39m\u001b[34m(self, **data)\u001b[39m\n\u001b[32m    251\u001b[39m \u001b[38;5;66;03m# `__tracebackhide__` tells pytest and some other tools to omit this function from tracebacks\u001b[39;00m\n\u001b[32m    252\u001b[39m __tracebackhide__ = \u001b[38;5;28;01mTrue\u001b[39;00m\n\u001b[32m--> \u001b[39m\u001b[32m253\u001b[39m validated_self = \u001b[38;5;28;43mself\u001b[39;49m\u001b[43m.\u001b[49m\u001b[43m__pydantic_validator__\u001b[49m\u001b[43m.\u001b[49m\u001b[43mvalidate_python\u001b[49m\u001b[43m(\u001b[49m\u001b[43mdata\u001b[49m\u001b[43m,\u001b[49m\u001b[43m \u001b[49m\u001b[43mself_instance\u001b[49m\u001b[43m=\u001b[49m\u001b[38;5;28;43mself\u001b[39;49m\u001b[43m)\u001b[49m\n\u001b[32m    254\u001b[39m \u001b[38;5;28;01mif\u001b[39;00m \u001b[38;5;28mself\u001b[39m \u001b[38;5;129;01mis\u001b[39;00m \u001b[38;5;129;01mnot\u001b[39;00m validated_self:\n\u001b[32m    255\u001b[39m     warnings.warn(\n\u001b[32m    256\u001b[39m         \u001b[33m'\u001b[39m\u001b[33mA custom validator is returning a value other than `self`.\u001b[39m\u001b[38;5;130;01m\\n\u001b[39;00m\u001b[33m'\u001b[39m\n\u001b[32m    257\u001b[39m         \u001b[33m\"\u001b[39m\u001b[33mReturning anything other than `self` from a top level model validator isn\u001b[39m\u001b[33m'\u001b[39m\u001b[33mt supported when validating via `__init__`.\u001b[39m\u001b[38;5;130;01m\\n\u001b[39;00m\u001b[33m\"\u001b[39m\n\u001b[32m    258\u001b[39m         \u001b[33m'\u001b[39m\u001b[33mSee the `model_validator` docs (https://docs.pydantic.dev/latest/concepts/validators/#model-validators) for more details.\u001b[39m\u001b[33m'\u001b[39m,\n\u001b[32m    259\u001b[39m         stacklevel=\u001b[32m2\u001b[39m,\n\u001b[32m    260\u001b[39m     )\n",
      "\u001b[31mValidationError\u001b[39m: 6 validation errors for Student\nroll_no\n  Input should be a valid integer, got a number with a fractional part [type=int_from_float, input_value=105.2, input_type=float]\n    For further information visit https://errors.pydantic.dev/2.11/v/int_from_float\nname\n  Input should be a valid string [type=string_type, input_value=12, input_type=int]\n    For further information visit https://errors.pydantic.dev/2.11/v/string_type\nage\n  Input should be less than or equal to 100 [type=less_than_equal, input_value=200, input_type=int]\n    For further information visit https://errors.pydantic.dev/2.11/v/less_than_equal\nmarks\n  Input should be greater than or equal to 0 [type=greater_than_equal, input_value=-5.3, input_type=float]\n    For further information visit https://errors.pydantic.dev/2.11/v/greater_than_equal\ngender\n  Input should be 'male' or 'female' [type=literal_error, input_value='M', input_type=str]\n    For further information visit https://errors.pydantic.dev/2.11/v/literal_error\nhobbies\n  Input should be a valid list [type=list_type, input_value='singing', input_type=str]\n    For further information visit https://errors.pydantic.dev/2.11/v/list_type"
     ]
    }
   ],
   "source": [
    "s2 = Student(roll_no=105.2, name=12, age=200, marks=-5.3, hobbies=\"singing\", gender=\"M\")"
   ]
  },
  {
   "cell_type": "code",
   "execution_count": 79,
   "id": "ac3b800b",
   "metadata": {},
   "outputs": [],
   "source": [
    "s3 = Student(\n",
    "    roll_no=102,\n",
    "    name=\"Priya\",\n",
    "    age=33,\n",
    "    marks=67.5,\n",
    "    gender=\"female\",\n",
    ")"
   ]
  },
  {
   "cell_type": "code",
   "execution_count": 80,
   "id": "4d3af4a1",
   "metadata": {},
   "outputs": [
    {
     "data": {
      "text/plain": [
       "Student(roll_no=102, name='Priya', age=33, marks=67.5, gender='female', hobbies=[])"
      ]
     },
     "execution_count": 80,
     "metadata": {},
     "output_type": "execute_result"
    }
   ],
   "source": [
    "s3"
   ]
  },
  {
   "cell_type": "code",
   "execution_count": 81,
   "id": "42f6e236",
   "metadata": {},
   "outputs": [
    {
     "name": "stdout",
     "output_type": "stream",
     "text": [
      "Roll Number : 102\n",
      "Name : Priya\n",
      "Marks : 67.5\n",
      "Gender : female\n",
      "Hobbies : []\n"
     ]
    }
   ],
   "source": [
    "s3.get_student_info()"
   ]
  },
  {
   "cell_type": "code",
   "execution_count": 82,
   "id": "a02f47aa",
   "metadata": {},
   "outputs": [
    {
     "data": {
      "text/plain": [
       "{'roll_no': 102,\n",
       " 'name': 'Priya',\n",
       " 'age': 33,\n",
       " 'marks': 67.5,\n",
       " 'gender': 'female',\n",
       " 'hobbies': []}"
      ]
     },
     "execution_count": 82,
     "metadata": {},
     "output_type": "execute_result"
    }
   ],
   "source": [
    "# model dump function is inherited from BaseModel\n",
    "s3.model_dump()"
   ]
  },
  {
   "cell_type": "markdown",
   "id": "26656645",
   "metadata": {},
   "source": [
    "# Multiple Inheritance"
   ]
  },
  {
   "cell_type": "code",
   "execution_count": 7,
   "id": "9bdcaa87",
   "metadata": {},
   "outputs": [],
   "source": [
    "class BaseSalary:\n",
    "\n",
    "    def __init__(self, salary: float):\n",
    "        self.salary = salary\n",
    "\n",
    "    def get_base_salary(self) -> float:\n",
    "        return self.salary"
   ]
  },
  {
   "cell_type": "code",
   "execution_count": 8,
   "id": "5165ae2f",
   "metadata": {},
   "outputs": [],
   "source": [
    "class Bonus:\n",
    "\n",
    "    def __init__(self, bonus_per: float):\n",
    "        self.bonus_per = bonus_per\n",
    "\n",
    "    def calulate_bonus(self, base_salary: float) -> float:\n",
    "        return (self.bonus_per / 100) * base_salary"
   ]
  },
  {
   "cell_type": "code",
   "execution_count": 9,
   "id": "11b952ec",
   "metadata": {},
   "outputs": [],
   "source": [
    "class Tax:\n",
    "\n",
    "    def __init__(self, tax_per: float):\n",
    "        self.tax_per = tax_per\n",
    "\n",
    "    def calculate_tax(self, gross_salary: float) -> float:\n",
    "        return (self.tax_per / 100) * gross_salary"
   ]
  },
  {
   "cell_type": "code",
   "execution_count": 10,
   "id": "d76fe97c",
   "metadata": {},
   "outputs": [],
   "source": [
    "class TotalSalary(BaseSalary, Bonus, Tax):\n",
    "\n",
    "    def __init__(self, salary: float, bonus_per: float, tax_per: float):\n",
    "        BaseSalary.__init__(self, salary)\n",
    "        Bonus.__init__(self, bonus_per)\n",
    "        Tax.__init__(self, tax_per)\n",
    "\n",
    "    def calculate_total_salary(self) -> dict[str, float]:\n",
    "        base_sal = self.get_base_salary()\n",
    "        bonus = self.calulate_bonus(base_sal)\n",
    "        gross_sal = base_sal + bonus\n",
    "        tax = self.calculate_tax(gross_sal)\n",
    "        net_sal = gross_sal - tax\n",
    "        return {\n",
    "            \"base_salary\": base_sal,\n",
    "            \"bonus\": bonus,\n",
    "            \"gross_salary\": gross_sal,\n",
    "            \"tax\": tax,\n",
    "            \"net_salary\": net_sal,\n",
    "        }"
   ]
  },
  {
   "cell_type": "code",
   "execution_count": 11,
   "id": "cdbe86d2",
   "metadata": {},
   "outputs": [
    {
     "name": "stdout",
     "output_type": "stream",
     "text": [
      "<class '__main__.TotalSalary'>\n"
     ]
    }
   ],
   "source": [
    "s1 = TotalSalary(salary=50_000.0, bonus_per=12.0, tax_per=10.0)\n",
    "print(type(s1))"
   ]
  },
  {
   "cell_type": "code",
   "execution_count": 12,
   "id": "81a42119",
   "metadata": {},
   "outputs": [
    {
     "data": {
      "text/plain": [
       "50000.0"
      ]
     },
     "execution_count": 12,
     "metadata": {},
     "output_type": "execute_result"
    }
   ],
   "source": [
    "s1.salary"
   ]
  },
  {
   "cell_type": "code",
   "execution_count": 13,
   "id": "af5c8477",
   "metadata": {},
   "outputs": [
    {
     "data": {
      "text/plain": [
       "12.0"
      ]
     },
     "execution_count": 13,
     "metadata": {},
     "output_type": "execute_result"
    }
   ],
   "source": [
    "s1.bonus_per"
   ]
  },
  {
   "cell_type": "code",
   "execution_count": 14,
   "id": "56f928ff",
   "metadata": {},
   "outputs": [
    {
     "data": {
      "text/plain": [
       "10.0"
      ]
     },
     "execution_count": 14,
     "metadata": {},
     "output_type": "execute_result"
    }
   ],
   "source": [
    "s1.tax_per"
   ]
  },
  {
   "cell_type": "code",
   "execution_count": 15,
   "id": "aa534059",
   "metadata": {},
   "outputs": [
    {
     "name": "stdout",
     "output_type": "stream",
     "text": [
      "{'base_salary': 50000.0, 'bonus': 6000.0, 'gross_salary': 56000.0, 'tax': 5600.0, 'net_salary': 50400.0}\n"
     ]
    }
   ],
   "source": [
    "salary_details = s1.calculate_total_salary()\n",
    "print(salary_details)"
   ]
  },
  {
   "cell_type": "code",
   "execution_count": 16,
   "id": "fa4e4abf",
   "metadata": {},
   "outputs": [
    {
     "data": {
      "text/plain": [
       "50000.0"
      ]
     },
     "execution_count": 16,
     "metadata": {},
     "output_type": "execute_result"
    }
   ],
   "source": [
    "s1.get_base_salary()"
   ]
  },
  {
   "cell_type": "code",
   "execution_count": 17,
   "id": "9ae77cc4",
   "metadata": {},
   "outputs": [
    {
     "name": "stdout",
     "output_type": "stream",
     "text": [
      "<class '__main__.TotalSalary'>\n"
     ]
    }
   ],
   "source": [
    "s2 = TotalSalary(salary=1_00_000.0, bonus_per=25.0, tax_per=15.0)\n",
    "print(type(s2))"
   ]
  },
  {
   "cell_type": "code",
   "execution_count": 18,
   "id": "c5c05b33",
   "metadata": {},
   "outputs": [
    {
     "name": "stdout",
     "output_type": "stream",
     "text": [
      "{'base_salary': 100000.0, 'bonus': 25000.0, 'gross_salary': 125000.0, 'tax': 18750.0, 'net_salary': 106250.0}\n"
     ]
    }
   ],
   "source": [
    "sal_details2 = s2.calculate_total_salary()\n",
    "print(sal_details2)"
   ]
  },
  {
   "cell_type": "code",
   "execution_count": 19,
   "id": "799bca50",
   "metadata": {},
   "outputs": [
    {
     "data": {
      "text/plain": [
       "100000.0"
      ]
     },
     "execution_count": 19,
     "metadata": {},
     "output_type": "execute_result"
    }
   ],
   "source": [
    "s2.get_base_salary()"
   ]
  },
  {
   "cell_type": "markdown",
   "id": "d4fdbd81",
   "metadata": {},
   "source": [
    "# Multilevel Inheritance\n",
    "Parent->child->grant child->...."
   ]
  },
  {
   "cell_type": "code",
   "execution_count": 20,
   "id": "3156076d",
   "metadata": {},
   "outputs": [],
   "source": [
    "class Employee2:\n",
    "\n",
    "    def __init__(self, emp_id: int, name: str):\n",
    "        self.emp_id = emp_id\n",
    "        self.name = name\n",
    "\n",
    "    def get_employee_info(self):\n",
    "        print(f\"Employee Id : {self.emp_id}, Name : {self.name}\")"
   ]
  },
  {
   "cell_type": "code",
   "execution_count": 21,
   "id": "ab87092b",
   "metadata": {},
   "outputs": [],
   "source": [
    "class Manager(Employee2):\n",
    "\n",
    "    def __init__(self, emp_id: int, name: str, dept: str):\n",
    "        super().__init__(emp_id, name)\n",
    "        self.dept = dept\n",
    "\n",
    "    def get_manager_departement(self):\n",
    "        print(f\"Departement of Manager : {self.dept}\")"
   ]
  },
  {
   "cell_type": "code",
   "execution_count": 22,
   "id": "d6633e77",
   "metadata": {},
   "outputs": [],
   "source": [
    "class ProjectManager(Manager):\n",
    "\n",
    "    def __init__(self, emp_id: int, name: str, dept: str, project: str):\n",
    "        super().__init__(emp_id, name, dept)\n",
    "        self.project = project\n",
    "\n",
    "    def get_project_name(self):\n",
    "        print(f\"Project Name : {self.project}\")"
   ]
  },
  {
   "cell_type": "code",
   "execution_count": 23,
   "id": "8dacbd89",
   "metadata": {},
   "outputs": [
    {
     "name": "stdout",
     "output_type": "stream",
     "text": [
      "<class '__main__.Employee2'>\n"
     ]
    }
   ],
   "source": [
    "e2 = Employee2(emp_id=108, name=\"Sarthak\")\n",
    "print(type(e2))"
   ]
  },
  {
   "cell_type": "code",
   "execution_count": 24,
   "id": "be9aa670",
   "metadata": {},
   "outputs": [
    {
     "data": {
      "text/plain": [
       "108"
      ]
     },
     "execution_count": 24,
     "metadata": {},
     "output_type": "execute_result"
    }
   ],
   "source": [
    "e2.emp_id"
   ]
  },
  {
   "cell_type": "code",
   "execution_count": 25,
   "id": "5c96eeb0",
   "metadata": {},
   "outputs": [
    {
     "data": {
      "text/plain": [
       "'Sarthak'"
      ]
     },
     "execution_count": 25,
     "metadata": {},
     "output_type": "execute_result"
    }
   ],
   "source": [
    "e2.name"
   ]
  },
  {
   "cell_type": "code",
   "execution_count": 26,
   "id": "6ef79d93",
   "metadata": {},
   "outputs": [
    {
     "name": "stdout",
     "output_type": "stream",
     "text": [
      "Employee Id : 108, Name : Sarthak\n"
     ]
    }
   ],
   "source": [
    "e2.get_employee_info()"
   ]
  },
  {
   "cell_type": "code",
   "execution_count": 28,
   "id": "a4c45e63",
   "metadata": {},
   "outputs": [
    {
     "name": "stdout",
     "output_type": "stream",
     "text": [
      "<class '__main__.Manager'>\n"
     ]
    }
   ],
   "source": [
    "m2 = Manager(emp_id=103, name=\"Aditi\", dept=\"Engineering\")\n",
    "print(type(m2))"
   ]
  },
  {
   "cell_type": "code",
   "execution_count": 29,
   "id": "7f5ecd56",
   "metadata": {},
   "outputs": [
    {
     "data": {
      "text/plain": [
       "103"
      ]
     },
     "execution_count": 29,
     "metadata": {},
     "output_type": "execute_result"
    }
   ],
   "source": [
    "m2.emp_id"
   ]
  },
  {
   "cell_type": "code",
   "execution_count": 30,
   "id": "d879dbbb",
   "metadata": {},
   "outputs": [
    {
     "data": {
      "text/plain": [
       "'Aditi'"
      ]
     },
     "execution_count": 30,
     "metadata": {},
     "output_type": "execute_result"
    }
   ],
   "source": [
    "m2.name"
   ]
  },
  {
   "cell_type": "code",
   "execution_count": 31,
   "id": "c0f21119",
   "metadata": {},
   "outputs": [
    {
     "data": {
      "text/plain": [
       "'Engineering'"
      ]
     },
     "execution_count": 31,
     "metadata": {},
     "output_type": "execute_result"
    }
   ],
   "source": [
    "m2.dept"
   ]
  },
  {
   "cell_type": "code",
   "execution_count": 32,
   "id": "b6c09f20",
   "metadata": {},
   "outputs": [
    {
     "name": "stdout",
     "output_type": "stream",
     "text": [
      "Departement of Manager : Engineering\n"
     ]
    }
   ],
   "source": [
    "m2.get_manager_departement()"
   ]
  },
  {
   "cell_type": "code",
   "execution_count": 33,
   "id": "e7479b9d",
   "metadata": {},
   "outputs": [
    {
     "name": "stdout",
     "output_type": "stream",
     "text": [
      "Employee Id : 103, Name : Aditi\n"
     ]
    }
   ],
   "source": [
    "# Inherited from Employee2 class\n",
    "m2.get_employee_info()"
   ]
  },
  {
   "cell_type": "code",
   "execution_count": 34,
   "id": "c439d738",
   "metadata": {},
   "outputs": [
    {
     "name": "stdout",
     "output_type": "stream",
     "text": [
      "Employee Id : 103, Name : Aditi\n",
      "Departement of Manager : Engineering\n"
     ]
    }
   ],
   "source": [
    "m2.get_employee_info()\n",
    "m2.get_manager_departement()"
   ]
  },
  {
   "cell_type": "code",
   "execution_count": 35,
   "id": "c8f9916f",
   "metadata": {},
   "outputs": [
    {
     "name": "stdout",
     "output_type": "stream",
     "text": [
      "<class '__main__.ProjectManager'>\n"
     ]
    }
   ],
   "source": [
    "pm2 = ProjectManager(\n",
    "    emp_id=102, name=\"Rahul\", dept=\"Engineering\", project=\"Tesla Drivetrain\"\n",
    ")\n",
    "print(type(pm2))"
   ]
  },
  {
   "cell_type": "code",
   "execution_count": 36,
   "id": "06338374",
   "metadata": {},
   "outputs": [
    {
     "data": {
      "text/plain": [
       "102"
      ]
     },
     "execution_count": 36,
     "metadata": {},
     "output_type": "execute_result"
    }
   ],
   "source": [
    "pm2.emp_id"
   ]
  },
  {
   "cell_type": "code",
   "execution_count": 37,
   "id": "d61a8e7d",
   "metadata": {},
   "outputs": [
    {
     "data": {
      "text/plain": [
       "'Rahul'"
      ]
     },
     "execution_count": 37,
     "metadata": {},
     "output_type": "execute_result"
    }
   ],
   "source": [
    "pm2.name"
   ]
  },
  {
   "cell_type": "code",
   "execution_count": 38,
   "id": "4506fd77",
   "metadata": {},
   "outputs": [
    {
     "data": {
      "text/plain": [
       "'Engineering'"
      ]
     },
     "execution_count": 38,
     "metadata": {},
     "output_type": "execute_result"
    }
   ],
   "source": [
    "pm2.dept"
   ]
  },
  {
   "cell_type": "code",
   "execution_count": 39,
   "id": "d39e476b",
   "metadata": {},
   "outputs": [
    {
     "data": {
      "text/plain": [
       "'Tesla Drivetrain'"
      ]
     },
     "execution_count": 39,
     "metadata": {},
     "output_type": "execute_result"
    }
   ],
   "source": [
    "pm2.project"
   ]
  },
  {
   "cell_type": "code",
   "execution_count": 40,
   "id": "3b7e9441",
   "metadata": {},
   "outputs": [
    {
     "name": "stdout",
     "output_type": "stream",
     "text": [
      "Project Name : Tesla Drivetrain\n"
     ]
    }
   ],
   "source": [
    "pm2.get_project_name()"
   ]
  },
  {
   "cell_type": "code",
   "execution_count": 41,
   "id": "1a147681",
   "metadata": {},
   "outputs": [
    {
     "name": "stdout",
     "output_type": "stream",
     "text": [
      "Departement of Manager : Engineering\n"
     ]
    }
   ],
   "source": [
    "pm2.get_manager_departement()"
   ]
  },
  {
   "cell_type": "code",
   "execution_count": 42,
   "id": "7b068b63",
   "metadata": {},
   "outputs": [
    {
     "name": "stdout",
     "output_type": "stream",
     "text": [
      "Employee Id : 102, Name : Rahul\n"
     ]
    }
   ],
   "source": [
    "pm2.get_employee_info()"
   ]
  },
  {
   "cell_type": "code",
   "execution_count": 43,
   "id": "3e4d3613",
   "metadata": {},
   "outputs": [
    {
     "name": "stdout",
     "output_type": "stream",
     "text": [
      "Employee Id : 102, Name : Rahul\n",
      "Departement of Manager : Engineering\n",
      "Project Name : Tesla Drivetrain\n"
     ]
    }
   ],
   "source": [
    "pm2.get_employee_info()\n",
    "pm2.get_manager_departement()\n",
    "pm2.get_project_name()"
   ]
  },
  {
   "cell_type": "markdown",
   "id": "832a1a2d",
   "metadata": {},
   "source": [
    "# Hietarchical Inheritance\n",
    "single parent but multiple child class"
   ]
  },
  {
   "cell_type": "code",
   "execution_count": 44,
   "id": "90dee898",
   "metadata": {},
   "outputs": [],
   "source": [
    "class Shape:\n",
    "\n",
    "    def perimeter(self):\n",
    "        pass\n",
    "\n",
    "    def area(self):\n",
    "        pass\n",
    "\n",
    "    def get_info(self):\n",
    "        print(f\"Perimeter : {self.perimeter():.2f}, Area : {self.area():.2f}\")"
   ]
  },
  {
   "cell_type": "code",
   "execution_count": 45,
   "id": "0f4a72cb",
   "metadata": {},
   "outputs": [],
   "source": [
    "class Rectangle(Shape):\n",
    "\n",
    "    def __init__(self, width: float, height: float):\n",
    "        self.width = width\n",
    "        self.height = height\n",
    "\n",
    "    def perimeter(self):\n",
    "        return 2 * (self.width + self.height)\n",
    "\n",
    "    def area(self):\n",
    "        return self.width * self.height"
   ]
  },
  {
   "cell_type": "code",
   "execution_count": 46,
   "id": "ec0efb9d",
   "metadata": {},
   "outputs": [],
   "source": [
    "import math\n",
    "\n",
    "\n",
    "class Circle(Shape):\n",
    "\n",
    "    def __init__(self, radius: float):\n",
    "        self.radius = radius\n",
    "\n",
    "    def perimeter(self):\n",
    "        return 2 * math.pi * self.radius\n",
    "\n",
    "    def area(self):\n",
    "        return math.pi * (self.radius**2)"
   ]
  },
  {
   "cell_type": "code",
   "execution_count": 47,
   "id": "79cbb8be",
   "metadata": {},
   "outputs": [
    {
     "name": "stdout",
     "output_type": "stream",
     "text": [
      "<class '__main__.Rectangle'>\n"
     ]
    }
   ],
   "source": [
    "s1 = Rectangle(width=20, height=15)\n",
    "print(type(s1))"
   ]
  },
  {
   "cell_type": "code",
   "execution_count": 48,
   "id": "27dd1589",
   "metadata": {},
   "outputs": [
    {
     "data": {
      "text/plain": [
       "20"
      ]
     },
     "execution_count": 48,
     "metadata": {},
     "output_type": "execute_result"
    }
   ],
   "source": [
    "s1.width"
   ]
  },
  {
   "cell_type": "code",
   "execution_count": 49,
   "id": "80dcdb50",
   "metadata": {},
   "outputs": [
    {
     "data": {
      "text/plain": [
       "15"
      ]
     },
     "execution_count": 49,
     "metadata": {},
     "output_type": "execute_result"
    }
   ],
   "source": [
    "s1.height"
   ]
  },
  {
   "cell_type": "code",
   "execution_count": 52,
   "id": "5bbaca99",
   "metadata": {},
   "outputs": [
    {
     "data": {
      "text/plain": [
       "70"
      ]
     },
     "execution_count": 52,
     "metadata": {},
     "output_type": "execute_result"
    }
   ],
   "source": [
    "s1.perimeter()"
   ]
  },
  {
   "cell_type": "code",
   "execution_count": 53,
   "id": "ed236705",
   "metadata": {},
   "outputs": [
    {
     "data": {
      "text/plain": [
       "300"
      ]
     },
     "execution_count": 53,
     "metadata": {},
     "output_type": "execute_result"
    }
   ],
   "source": [
    "s1.area()"
   ]
  },
  {
   "cell_type": "code",
   "execution_count": 54,
   "id": "0e72528e",
   "metadata": {},
   "outputs": [
    {
     "name": "stdout",
     "output_type": "stream",
     "text": [
      "Perimeter : 70.00, Area : 300.00\n"
     ]
    }
   ],
   "source": [
    "s1.get_info()"
   ]
  },
  {
   "cell_type": "code",
   "execution_count": 55,
   "id": "8d3866aa",
   "metadata": {},
   "outputs": [
    {
     "name": "stdout",
     "output_type": "stream",
     "text": [
      "<class '__main__.Circle'>\n"
     ]
    }
   ],
   "source": [
    "s2 = Circle(radius=35)\n",
    "print(type(s2))"
   ]
  },
  {
   "cell_type": "code",
   "execution_count": 56,
   "id": "29a45531",
   "metadata": {},
   "outputs": [
    {
     "data": {
      "text/plain": [
       "219.9114857512855"
      ]
     },
     "execution_count": 56,
     "metadata": {},
     "output_type": "execute_result"
    }
   ],
   "source": [
    "s2.perimeter()"
   ]
  },
  {
   "cell_type": "code",
   "execution_count": 57,
   "id": "8f32d5ff",
   "metadata": {},
   "outputs": [
    {
     "data": {
      "text/plain": [
       "3848.4510006474966"
      ]
     },
     "execution_count": 57,
     "metadata": {},
     "output_type": "execute_result"
    }
   ],
   "source": [
    "s2.area()"
   ]
  },
  {
   "cell_type": "code",
   "execution_count": 58,
   "id": "179aec46",
   "metadata": {},
   "outputs": [
    {
     "name": "stdout",
     "output_type": "stream",
     "text": [
      "Perimeter : 219.91, Area : 3848.45\n"
     ]
    }
   ],
   "source": [
    "s2.get_info()"
   ]
  },
  {
   "cell_type": "code",
   "execution_count": 59,
   "id": "41a14c7c",
   "metadata": {},
   "outputs": [],
   "source": [
    "s = [\n",
    "    Circle(radius=14),\n",
    "    Rectangle(width=30, height=20),\n",
    "    Circle(radius=50),\n",
    "    Rectangle(width=100, height=80),\n",
    "]"
   ]
  },
  {
   "cell_type": "code",
   "execution_count": 60,
   "id": "176de7ec",
   "metadata": {},
   "outputs": [
    {
     "name": "stdout",
     "output_type": "stream",
     "text": [
      "<class '__main__.Circle'>\n",
      "Perimeter : 87.96, Area : 615.75\n",
      "<class '__main__.Rectangle'>\n",
      "Perimeter : 100.00, Area : 600.00\n",
      "<class '__main__.Circle'>\n",
      "Perimeter : 314.16, Area : 7853.98\n",
      "<class '__main__.Rectangle'>\n",
      "Perimeter : 360.00, Area : 8000.00\n"
     ]
    }
   ],
   "source": [
    "for i in s:\n",
    "    print(type(i))\n",
    "    i.get_info()"
   ]
  },
  {
   "cell_type": "code",
   "execution_count": null,
   "id": "82785e4d",
   "metadata": {},
   "outputs": [],
   "source": []
  }
 ],
 "metadata": {
  "kernelspec": {
   "display_name": "Adv_Python_Codes_11.30",
   "language": "python",
   "name": "python3"
  },
  "language_info": {
   "codemirror_mode": {
    "name": "ipython",
    "version": 3
   },
   "file_extension": ".py",
   "mimetype": "text/x-python",
   "name": "python",
   "nbconvert_exporter": "python",
   "pygments_lexer": "ipython3",
   "version": "3.12.7"
  }
 },
 "nbformat": 4,
 "nbformat_minor": 5
}
