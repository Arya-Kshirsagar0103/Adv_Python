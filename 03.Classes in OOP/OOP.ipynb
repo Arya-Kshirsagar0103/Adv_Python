{
 "cells": [
  {
   "cell_type": "markdown",
   "id": "29f49ad0",
   "metadata": {},
   "source": [
    "# OOP\n",
    "1. Class is similar to blue print\n",
    "2. One class can have multiple objects.\n"
   ]
  },
  {
   "cell_type": "code",
   "execution_count": 1,
   "id": "8f241e69",
   "metadata": {},
   "outputs": [
    {
     "name": "stdout",
     "output_type": "stream",
     "text": [
      "<class 'int'>\n"
     ]
    }
   ],
   "source": [
    "age = 23\n",
    "print(type(age))"
   ]
  },
  {
   "cell_type": "code",
   "execution_count": 2,
   "id": "9b497f7c",
   "metadata": {},
   "outputs": [
    {
     "name": "stdout",
     "output_type": "stream",
     "text": [
      "<class 'int'>\n"
     ]
    }
   ],
   "source": [
    "marks = 89\n",
    "print(type(marks))"
   ]
  },
  {
   "cell_type": "markdown",
   "id": "f71536cd",
   "metadata": {},
   "source": [
    "# Dataframe Class"
   ]
  },
  {
   "cell_type": "code",
   "execution_count": 3,
   "id": "9370f3ea",
   "metadata": {},
   "outputs": [
    {
     "name": "stdout",
     "output_type": "stream",
     "text": [
      "<class 'dict'>\n"
     ]
    }
   ],
   "source": [
    "s = {\n",
    "    \"roll_no\": [101, 102, 103, 104],\n",
    "    \"name\": [\"Rahul\", \"Raman\", \"Aditi\", \"Sarthak\"],\n",
    "    \"marks\": [89, 93, 67, 83],\n",
    "}\n",
    "print(type(s))"
   ]
  },
  {
   "cell_type": "code",
   "execution_count": 4,
   "id": "48fbb58d",
   "metadata": {},
   "outputs": [
    {
     "data": {
      "text/html": [
       "<div>\n",
       "<style scoped>\n",
       "    .dataframe tbody tr th:only-of-type {\n",
       "        vertical-align: middle;\n",
       "    }\n",
       "\n",
       "    .dataframe tbody tr th {\n",
       "        vertical-align: top;\n",
       "    }\n",
       "\n",
       "    .dataframe thead th {\n",
       "        text-align: right;\n",
       "    }\n",
       "</style>\n",
       "<table border=\"1\" class=\"dataframe\">\n",
       "  <thead>\n",
       "    <tr style=\"text-align: right;\">\n",
       "      <th></th>\n",
       "      <th>roll_no</th>\n",
       "      <th>name</th>\n",
       "      <th>marks</th>\n",
       "    </tr>\n",
       "  </thead>\n",
       "  <tbody>\n",
       "    <tr>\n",
       "      <th>0</th>\n",
       "      <td>101</td>\n",
       "      <td>Rahul</td>\n",
       "      <td>89</td>\n",
       "    </tr>\n",
       "    <tr>\n",
       "      <th>1</th>\n",
       "      <td>102</td>\n",
       "      <td>Raman</td>\n",
       "      <td>93</td>\n",
       "    </tr>\n",
       "    <tr>\n",
       "      <th>2</th>\n",
       "      <td>103</td>\n",
       "      <td>Aditi</td>\n",
       "      <td>67</td>\n",
       "    </tr>\n",
       "    <tr>\n",
       "      <th>3</th>\n",
       "      <td>104</td>\n",
       "      <td>Sarthak</td>\n",
       "      <td>83</td>\n",
       "    </tr>\n",
       "  </tbody>\n",
       "</table>\n",
       "</div>"
      ],
      "text/plain": [
       "   roll_no     name  marks\n",
       "0      101    Rahul     89\n",
       "1      102    Raman     93\n",
       "2      103    Aditi     67\n",
       "3      104  Sarthak     83"
      ]
     },
     "execution_count": 4,
     "metadata": {},
     "output_type": "execute_result"
    }
   ],
   "source": [
    "import pandas as pd\n",
    "\n",
    "df = pd.DataFrame(s)\n",
    "df"
   ]
  },
  {
   "cell_type": "code",
   "execution_count": 5,
   "id": "910e2fdf",
   "metadata": {},
   "outputs": [
    {
     "name": "stdout",
     "output_type": "stream",
     "text": [
      "<class 'pandas.core.frame.DataFrame'>\n"
     ]
    }
   ],
   "source": [
    "print(type(df))"
   ]
  },
  {
   "cell_type": "markdown",
   "id": "39915d5b",
   "metadata": {},
   "source": [
    "# Dataframe Atributes\n",
    "\n",
    "\n",
    "1. df.shape\n",
    "2. df.columns\n",
    "3. df.index\n",
    "4. df.values\n",
    "5. df.size\n",
    "6. df.dtypes\n"
   ]
  },
  {
   "cell_type": "markdown",
   "id": "58c5034e",
   "metadata": {},
   "source": []
  },
  {
   "cell_type": "code",
   "execution_count": 6,
   "id": "00b59ec9",
   "metadata": {},
   "outputs": [
    {
     "data": {
      "text/plain": [
       "(4, 3)"
      ]
     },
     "execution_count": 6,
     "metadata": {},
     "output_type": "execute_result"
    }
   ],
   "source": [
    "df.shape"
   ]
  },
  {
   "cell_type": "code",
   "execution_count": 7,
   "id": "9bbf8a3f",
   "metadata": {},
   "outputs": [
    {
     "data": {
      "text/plain": [
       "Index(['roll_no', 'name', 'marks'], dtype='object')"
      ]
     },
     "execution_count": 7,
     "metadata": {},
     "output_type": "execute_result"
    }
   ],
   "source": [
    "df.columns"
   ]
  },
  {
   "cell_type": "code",
   "execution_count": 8,
   "id": "ab2cda92",
   "metadata": {},
   "outputs": [
    {
     "data": {
      "text/plain": [
       "RangeIndex(start=0, stop=4, step=1)"
      ]
     },
     "execution_count": 8,
     "metadata": {},
     "output_type": "execute_result"
    }
   ],
   "source": [
    "df.index"
   ]
  },
  {
   "cell_type": "code",
   "execution_count": 9,
   "id": "38c2ee6c",
   "metadata": {},
   "outputs": [
    {
     "data": {
      "text/plain": [
       "array([[101, 'Rahul', 89],\n",
       "       [102, 'Raman', 93],\n",
       "       [103, 'Aditi', 67],\n",
       "       [104, 'Sarthak', 83]], dtype=object)"
      ]
     },
     "execution_count": 9,
     "metadata": {},
     "output_type": "execute_result"
    }
   ],
   "source": [
    "df.values"
   ]
  },
  {
   "cell_type": "code",
   "execution_count": 10,
   "id": "84ef791e",
   "metadata": {},
   "outputs": [
    {
     "data": {
      "text/plain": [
       "roll_no     int64\n",
       "name       object\n",
       "marks       int64\n",
       "dtype: object"
      ]
     },
     "execution_count": 10,
     "metadata": {},
     "output_type": "execute_result"
    }
   ],
   "source": [
    "df.dtypes"
   ]
  },
  {
   "cell_type": "code",
   "execution_count": 11,
   "id": "9766695b",
   "metadata": {},
   "outputs": [
    {
     "data": {
      "text/plain": [
       "12"
      ]
     },
     "execution_count": 11,
     "metadata": {},
     "output_type": "execute_result"
    }
   ],
   "source": [
    "df.size"
   ]
  },
  {
   "cell_type": "markdown",
   "id": "11e44b62",
   "metadata": {},
   "source": [
    "# Functions or Methods of Class Dataframe\n",
    "\n",
    "1. df.info()\n",
    "2. df.sort_values()\n",
    "3. df.group_by()"
   ]
  },
  {
   "cell_type": "code",
   "execution_count": 12,
   "id": "8d406eae",
   "metadata": {},
   "outputs": [
    {
     "name": "stdout",
     "output_type": "stream",
     "text": [
      "<class 'pandas.core.frame.DataFrame'>\n",
      "RangeIndex: 4 entries, 0 to 3\n",
      "Data columns (total 3 columns):\n",
      " #   Column   Non-Null Count  Dtype \n",
      "---  ------   --------------  ----- \n",
      " 0   roll_no  4 non-null      int64 \n",
      " 1   name     4 non-null      object\n",
      " 2   marks    4 non-null      int64 \n",
      "dtypes: int64(2), object(1)\n",
      "memory usage: 228.0+ bytes\n"
     ]
    }
   ],
   "source": [
    "df.info()"
   ]
  },
  {
   "cell_type": "code",
   "execution_count": 13,
   "id": "067eb70e",
   "metadata": {},
   "outputs": [
    {
     "data": {
      "text/plain": [
       "np.float64(83.0)"
      ]
     },
     "execution_count": 13,
     "metadata": {},
     "output_type": "execute_result"
    }
   ],
   "source": [
    "df.mean(numeric_only=True)[\"marks\"]"
   ]
  },
  {
   "cell_type": "code",
   "execution_count": 14,
   "id": "24a5370f",
   "metadata": {},
   "outputs": [
    {
     "data": {
      "text/html": [
       "<div>\n",
       "<style scoped>\n",
       "    .dataframe tbody tr th:only-of-type {\n",
       "        vertical-align: middle;\n",
       "    }\n",
       "\n",
       "    .dataframe tbody tr th {\n",
       "        vertical-align: top;\n",
       "    }\n",
       "\n",
       "    .dataframe thead th {\n",
       "        text-align: right;\n",
       "    }\n",
       "</style>\n",
       "<table border=\"1\" class=\"dataframe\">\n",
       "  <thead>\n",
       "    <tr style=\"text-align: right;\">\n",
       "      <th></th>\n",
       "      <th>roll_no</th>\n",
       "      <th>name</th>\n",
       "      <th>marks</th>\n",
       "    </tr>\n",
       "  </thead>\n",
       "  <tbody>\n",
       "    <tr>\n",
       "      <th>1</th>\n",
       "      <td>102</td>\n",
       "      <td>Raman</td>\n",
       "      <td>93</td>\n",
       "    </tr>\n",
       "    <tr>\n",
       "      <th>0</th>\n",
       "      <td>101</td>\n",
       "      <td>Rahul</td>\n",
       "      <td>89</td>\n",
       "    </tr>\n",
       "    <tr>\n",
       "      <th>3</th>\n",
       "      <td>104</td>\n",
       "      <td>Sarthak</td>\n",
       "      <td>83</td>\n",
       "    </tr>\n",
       "    <tr>\n",
       "      <th>2</th>\n",
       "      <td>103</td>\n",
       "      <td>Aditi</td>\n",
       "      <td>67</td>\n",
       "    </tr>\n",
       "  </tbody>\n",
       "</table>\n",
       "</div>"
      ],
      "text/plain": [
       "   roll_no     name  marks\n",
       "1      102    Raman     93\n",
       "0      101    Rahul     89\n",
       "3      104  Sarthak     83\n",
       "2      103    Aditi     67"
      ]
     },
     "execution_count": 14,
     "metadata": {},
     "output_type": "execute_result"
    }
   ],
   "source": [
    "df.sort_values(by=\"marks\", ascending=False)"
   ]
  },
  {
   "cell_type": "markdown",
   "id": "1c13dc76",
   "metadata": {},
   "source": [
    "# Class"
   ]
  },
  {
   "cell_type": "code",
   "execution_count": 18,
   "id": "69379774",
   "metadata": {},
   "outputs": [],
   "source": [
    "class Person:\n",
    "\n",
    "    # Use a constructor function __init__ to define attributes of a class\n",
    "    def __init__(self, name: str, age: int, gender: str, occupation: str):\n",
    "        self.name = name\n",
    "        self.age = age\n",
    "        self.gender = gender\n",
    "        self.occupation = occupation\n",
    "\n",
    "    # Can create any other methods\n",
    "    def intro(self):\n",
    "        print(f\"Hi there my name is {self.name}\")\n",
    "        print(f\"I am {self.age} years old\")\n",
    "        print(f\"I am {self.gender}\")\n",
    "        print(f\"I work as a {self.occupation}\")"
   ]
  },
  {
   "cell_type": "markdown",
   "id": "cde50522",
   "metadata": {},
   "source": [
    "# __main__ in python means current file\n"
   ]
  },
  {
   "cell_type": "code",
   "execution_count": 19,
   "id": "3df7d7dc",
   "metadata": {},
   "outputs": [
    {
     "name": "stdout",
     "output_type": "stream",
     "text": [
      "<__main__.Person object at 0x000001D02005B5F0>\n"
     ]
    }
   ],
   "source": [
    "p1 = Person(name=\"Sarthak\", age=25, gender=\"male\", occupation=\"Engineer\")\n",
    "print(p1)"
   ]
  },
  {
   "cell_type": "code",
   "execution_count": 20,
   "id": "d7a6effb",
   "metadata": {},
   "outputs": [
    {
     "name": "stdout",
     "output_type": "stream",
     "text": [
      "<class '__main__.Person'>\n"
     ]
    }
   ],
   "source": [
    "print(type(p1))"
   ]
  },
  {
   "cell_type": "code",
   "execution_count": 21,
   "id": "5e74c215",
   "metadata": {},
   "outputs": [
    {
     "data": {
      "text/plain": [
       "'Sarthak'"
      ]
     },
     "execution_count": 21,
     "metadata": {},
     "output_type": "execute_result"
    }
   ],
   "source": [
    "p1.name"
   ]
  },
  {
   "cell_type": "code",
   "execution_count": 22,
   "id": "4fc297e7",
   "metadata": {},
   "outputs": [
    {
     "data": {
      "text/plain": [
       "25"
      ]
     },
     "execution_count": 22,
     "metadata": {},
     "output_type": "execute_result"
    }
   ],
   "source": [
    "p1.age"
   ]
  },
  {
   "cell_type": "code",
   "execution_count": 23,
   "id": "d9ea8361",
   "metadata": {},
   "outputs": [
    {
     "data": {
      "text/plain": [
       "<bound method Person.intro of <__main__.Person object at 0x000001D02005B5F0>>"
      ]
     },
     "execution_count": 23,
     "metadata": {},
     "output_type": "execute_result"
    }
   ],
   "source": [
    "p1.intro"
   ]
  },
  {
   "cell_type": "code",
   "execution_count": 24,
   "id": "d4679cf1",
   "metadata": {},
   "outputs": [
    {
     "name": "stdout",
     "output_type": "stream",
     "text": [
      "Hi there my name is Sarthak\n",
      "I am 25 years old\n",
      "I am male\n",
      "I work as a Engineer\n"
     ]
    }
   ],
   "source": [
    "p1.intro()"
   ]
  },
  {
   "cell_type": "code",
   "execution_count": 25,
   "id": "ec35a76e",
   "metadata": {},
   "outputs": [
    {
     "name": "stdout",
     "output_type": "stream",
     "text": [
      "<__main__.Person object at 0x000001D02000BD10>\n"
     ]
    }
   ],
   "source": [
    "p2 = Person(name=\"Arya\", age=21, gender=\"male\", occupation=\"HR\")\n",
    "print(p2)"
   ]
  },
  {
   "cell_type": "code",
   "execution_count": 26,
   "id": "e682a402",
   "metadata": {},
   "outputs": [
    {
     "name": "stdout",
     "output_type": "stream",
     "text": [
      "<class '__main__.Person'>\n"
     ]
    }
   ],
   "source": [
    "print(type(p2))"
   ]
  },
  {
   "cell_type": "code",
   "execution_count": 27,
   "id": "7d6defa3",
   "metadata": {},
   "outputs": [
    {
     "data": {
      "text/plain": [
       "'Arya'"
      ]
     },
     "execution_count": 27,
     "metadata": {},
     "output_type": "execute_result"
    }
   ],
   "source": [
    "p2.name"
   ]
  },
  {
   "cell_type": "code",
   "execution_count": 28,
   "id": "c0d19c5d",
   "metadata": {},
   "outputs": [
    {
     "data": {
      "text/plain": [
       "21"
      ]
     },
     "execution_count": 28,
     "metadata": {},
     "output_type": "execute_result"
    }
   ],
   "source": [
    "p2.age"
   ]
  },
  {
   "cell_type": "code",
   "execution_count": 29,
   "id": "375ada32",
   "metadata": {},
   "outputs": [
    {
     "name": "stdout",
     "output_type": "stream",
     "text": [
      "Hi there my name is Arya\n",
      "I am 21 years old\n",
      "I am male\n",
      "I work as a HR\n"
     ]
    }
   ],
   "source": [
    "p2.intro()"
   ]
  },
  {
   "cell_type": "markdown",
   "id": "e30d224a",
   "metadata": {},
   "source": [
    "You can change attributes for an object\n"
   ]
  },
  {
   "cell_type": "code",
   "execution_count": 30,
   "id": "1665769a",
   "metadata": {},
   "outputs": [
    {
     "data": {
      "text/plain": [
       "'HR'"
      ]
     },
     "execution_count": 30,
     "metadata": {},
     "output_type": "execute_result"
    }
   ],
   "source": [
    "p2.occupation"
   ]
  },
  {
   "cell_type": "code",
   "execution_count": 31,
   "id": "8538c00b",
   "metadata": {},
   "outputs": [],
   "source": [
    "p2.occupation = \"Data Scientist\""
   ]
  },
  {
   "cell_type": "code",
   "execution_count": 34,
   "id": "8ae2a200",
   "metadata": {},
   "outputs": [
    {
     "data": {
      "text/plain": [
       "'Data Scientist'"
      ]
     },
     "execution_count": 34,
     "metadata": {},
     "output_type": "execute_result"
    }
   ],
   "source": [
    "p2.occupation"
   ]
  },
  {
   "cell_type": "markdown",
   "id": "9cdf3104",
   "metadata": {},
   "source": [
    "# Dunder Function\n",
    "1. __repr__ -> proprer representation for class\n",
    "2. __str__ -> print representation for class"
   ]
  },
  {
   "cell_type": "markdown",
   "id": "2a29ed7e",
   "metadata": {},
   "source": [
    "# Method 1 using Dunder Class"
   ]
  },
  {
   "cell_type": "code",
   "execution_count": 46,
   "id": "1be8f8da",
   "metadata": {},
   "outputs": [],
   "source": [
    "class Person2:\n",
    "    def __init__(self, name: str, age: int, gender: str, occupation: str):\n",
    "        self.name = name\n",
    "        self.age = age\n",
    "        self.gender = gender\n",
    "        self.occupation = occupation\n",
    "\n",
    "    def __repr__(self):\n",
    "        return (\n",
    "            f\"Person(name={self.name},\"\n",
    "            f\"age={self.age}, gender={self.gender},occupation={self.occupation})\"\n",
    "        )\n",
    "\n",
    "    def __str__(self):\n",
    "        return f\"name:{self.name},age:{self.age},gender:{self.gender},occ:{self.occupation}\"\n",
    "\n",
    "    def intro(self):\n",
    "        print(f\"My name is {self.name}\")\n",
    "        print(f\"I am {self.age} years old\")\n",
    "        print(f\"I am {self.gender}\")\n",
    "        print(f\"I work as a {self.occupation}\")"
   ]
  },
  {
   "cell_type": "code",
   "execution_count": 47,
   "id": "ddd3285c",
   "metadata": {},
   "outputs": [
    {
     "data": {
      "text/plain": [
       "Person(name=Rahul,age=35, gender=male,occupation=Purchase Engg.)"
      ]
     },
     "execution_count": 47,
     "metadata": {},
     "output_type": "execute_result"
    }
   ],
   "source": [
    "p3 = Person2(name=\"Rahul\", age=35, gender=\"male\", occupation=\"Purchase Engg.\")\n",
    "p3"
   ]
  },
  {
   "cell_type": "code",
   "execution_count": 48,
   "id": "946012be",
   "metadata": {},
   "outputs": [
    {
     "name": "stdout",
     "output_type": "stream",
     "text": [
      "name:Rahul,age:35,gender:male,occ:Purchase Engg.\n"
     ]
    }
   ],
   "source": [
    "print(p3)"
   ]
  },
  {
   "cell_type": "code",
   "execution_count": 49,
   "id": "1f5f7ee4",
   "metadata": {},
   "outputs": [
    {
     "data": {
      "text/plain": [
       "35"
      ]
     },
     "execution_count": 49,
     "metadata": {},
     "output_type": "execute_result"
    }
   ],
   "source": [
    "p3.age"
   ]
  },
  {
   "cell_type": "code",
   "execution_count": 50,
   "id": "0fb06f74",
   "metadata": {},
   "outputs": [
    {
     "data": {
      "text/plain": [
       "'Rahul'"
      ]
     },
     "execution_count": 50,
     "metadata": {},
     "output_type": "execute_result"
    }
   ],
   "source": [
    "p3.name"
   ]
  },
  {
   "cell_type": "code",
   "execution_count": 51,
   "id": "82905987",
   "metadata": {},
   "outputs": [
    {
     "name": "stdout",
     "output_type": "stream",
     "text": [
      "My name is Rahul\n",
      "I am 35 years old\n",
      "I am male\n",
      "I work as a Purchase Engg.\n"
     ]
    }
   ],
   "source": [
    "p3.intro()"
   ]
  },
  {
   "cell_type": "code",
   "execution_count": 52,
   "id": "2923322b",
   "metadata": {},
   "outputs": [
    {
     "name": "stdout",
     "output_type": "stream",
     "text": [
      "<class '__main__.Person2'>\n"
     ]
    }
   ],
   "source": [
    "print(type(p3))"
   ]
  },
  {
   "cell_type": "markdown",
   "id": "a8d95863",
   "metadata": {},
   "source": [
    "# Method 2\n",
    "Alternate way to create classes using -> dataclasses"
   ]
  },
  {
   "cell_type": "code",
   "execution_count": 55,
   "id": "446bbe34",
   "metadata": {},
   "outputs": [],
   "source": [
    "from dataclasses import dataclass\n",
    "from typing import Literal\n",
    "\n",
    "\n",
    "@dataclass\n",
    "class Person3:\n",
    "    name: str\n",
    "    age: int\n",
    "    gender: Literal[\"male\", \"female\"]  # used to have only male or female as o/p\n",
    "    occupation: str\n",
    "\n",
    "    def intro(self):\n",
    "        print(f\"My name is {self.name}\")\n",
    "        print(f\"I am {self.age} years old\")\n",
    "        print(f\"I am {self.gender}\")\n",
    "        print(f\"I work as a {self.occupation}\")"
   ]
  },
  {
   "cell_type": "code",
   "execution_count": 56,
   "id": "154e506c",
   "metadata": {},
   "outputs": [
    {
     "data": {
      "text/plain": [
       "Person3(name='Raj', age=15, gender='male', occupation='Student')"
      ]
     },
     "execution_count": 56,
     "metadata": {},
     "output_type": "execute_result"
    }
   ],
   "source": [
    "p4 = Person3(name=\"Raj\", age=15, gender=\"male\", occupation=\"Student\")\n",
    "p4"
   ]
  },
  {
   "cell_type": "code",
   "execution_count": 57,
   "id": "aa9c2c19",
   "metadata": {},
   "outputs": [
    {
     "name": "stdout",
     "output_type": "stream",
     "text": [
      "Person3(name='Raj', age=15, gender='male', occupation='Student')\n"
     ]
    }
   ],
   "source": [
    "print(p4)"
   ]
  },
  {
   "cell_type": "code",
   "execution_count": 58,
   "id": "16787c50",
   "metadata": {},
   "outputs": [
    {
     "data": {
      "text/plain": [
       "'Raj'"
      ]
     },
     "execution_count": 58,
     "metadata": {},
     "output_type": "execute_result"
    }
   ],
   "source": [
    "p4.name"
   ]
  },
  {
   "cell_type": "code",
   "execution_count": 60,
   "id": "658d9708",
   "metadata": {},
   "outputs": [
    {
     "data": {
      "text/plain": [
       "15"
      ]
     },
     "execution_count": 60,
     "metadata": {},
     "output_type": "execute_result"
    }
   ],
   "source": [
    "p4.age"
   ]
  },
  {
   "cell_type": "code",
   "execution_count": 61,
   "id": "7b86eca1",
   "metadata": {},
   "outputs": [
    {
     "name": "stdout",
     "output_type": "stream",
     "text": [
      "My name is Raj\n",
      "I am 15 years old\n",
      "I am male\n",
      "I work as a Student\n"
     ]
    }
   ],
   "source": [
    "p4.intro()"
   ]
  },
  {
   "cell_type": "code",
   "execution_count": 62,
   "id": "1756b927",
   "metadata": {},
   "outputs": [
    {
     "data": {
      "text/plain": [
       "<bound method Person3.intro of Person3(name='Raj', age=15, gender='male', occupation='Student')>"
      ]
     },
     "execution_count": 62,
     "metadata": {},
     "output_type": "execute_result"
    }
   ],
   "source": [
    "p4.intro"
   ]
  },
  {
   "cell_type": "code",
   "execution_count": 63,
   "id": "5df19ac6",
   "metadata": {},
   "outputs": [
    {
     "name": "stdout",
     "output_type": "stream",
     "text": [
      "<class '__main__.Person3'>\n"
     ]
    }
   ],
   "source": [
    "print(type(p4))"
   ]
  },
  {
   "cell_type": "code",
   "execution_count": null,
   "id": "9288fd2b",
   "metadata": {},
   "outputs": [],
   "source": []
  }
 ],
 "metadata": {
  "kernelspec": {
   "display_name": "Adv_Python_Codes_11.30",
   "language": "python",
   "name": "python3"
  },
  "language_info": {
   "codemirror_mode": {
    "name": "ipython",
    "version": 3
   },
   "file_extension": ".py",
   "mimetype": "text/x-python",
   "name": "python",
   "nbconvert_exporter": "python",
   "pygments_lexer": "ipython3",
   "version": "3.12.7"
  }
 },
 "nbformat": 4,
 "nbformat_minor": 5
}
