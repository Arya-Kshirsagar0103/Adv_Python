{
 "cells": [
  {
   "cell_type": "markdown",
   "id": "d660a356",
   "metadata": {},
   "source": [
    "# Exception Handling\n",
    "Wheb you perform some incorrect operations you get an exception in python"
   ]
  },
  {
   "cell_type": "code",
   "execution_count": 1,
   "id": "e1dad262",
   "metadata": {},
   "outputs": [
    {
     "ename": "ZeroDivisionError",
     "evalue": "division by zero",
     "output_type": "error",
     "traceback": [
      "\u001b[1;31m---------------------------------------------------------------------------\u001b[0m",
      "\u001b[1;31mZeroDivisionError\u001b[0m                         Traceback (most recent call last)",
      "Cell \u001b[1;32mIn[1], line 2\u001b[0m\n\u001b[0;32m      1\u001b[0m a \u001b[38;5;241m=\u001b[39m \u001b[38;5;241m5\u001b[39m\n\u001b[1;32m----> 2\u001b[0m \u001b[38;5;28mprint\u001b[39m(\u001b[43ma\u001b[49m\u001b[43m \u001b[49m\u001b[38;5;241;43m/\u001b[39;49m\u001b[43m \u001b[49m\u001b[38;5;241;43m0\u001b[39;49m)\n",
      "\u001b[1;31mZeroDivisionError\u001b[0m: division by zero"
     ]
    }
   ],
   "source": [
    "\n",
    "a = 5\n",
    "print(a / 0)"
   ]
  },
  {
   "cell_type": "code",
   "execution_count": 2,
   "id": "cec9cb97",
   "metadata": {},
   "outputs": [
    {
     "ename": "TypeError",
     "evalue": "unsupported operand type(s) for /: 'str' and 'int'",
     "output_type": "error",
     "traceback": [
      "\u001b[1;31m---------------------------------------------------------------------------\u001b[0m",
      "\u001b[1;31mTypeError\u001b[0m                                 Traceback (most recent call last)",
      "Cell \u001b[1;32mIn[2], line 2\u001b[0m\n\u001b[0;32m      1\u001b[0m b \u001b[38;5;241m=\u001b[39m \u001b[38;5;124m\"\u001b[39m\u001b[38;5;124mExample\u001b[39m\u001b[38;5;124m\"\u001b[39m\n\u001b[1;32m----> 2\u001b[0m \u001b[38;5;28mprint\u001b[39m(\u001b[43mb\u001b[49m\u001b[43m \u001b[49m\u001b[38;5;241;43m/\u001b[39;49m\u001b[43m \u001b[49m\u001b[38;5;241;43m12\u001b[39;49m)\n",
      "\u001b[1;31mTypeError\u001b[0m: unsupported operand type(s) for /: 'str' and 'int'"
     ]
    }
   ],
   "source": [
    "\n",
    "b = \"Example\"\n",
    "print(b / 12)"
   ]
  },
  {
   "cell_type": "code",
   "execution_count": 3,
   "id": "512392ef",
   "metadata": {},
   "outputs": [
    {
     "data": {
      "text/plain": [
       "str"
      ]
     },
     "execution_count": 3,
     "metadata": {},
     "output_type": "execute_result"
    }
   ],
   "source": [
    "\n",
    "a = \"28\"\n",
    "type(a)"
   ]
  },
  {
   "cell_type": "code",
   "execution_count": 4,
   "id": "67ea2b3f",
   "metadata": {},
   "outputs": [
    {
     "name": "stdout",
     "output_type": "stream",
     "text": [
      "28 <class 'int'>\n"
     ]
    }
   ],
   "source": [
    "\n",
    "b = int(a)\n",
    "print(b, type(b))"
   ]
  },
  {
   "cell_type": "code",
   "execution_count": 5,
   "id": "ede2ddac",
   "metadata": {},
   "outputs": [
    {
     "ename": "ValueError",
     "evalue": "invalid literal for int() with base 10: 'abc'",
     "output_type": "error",
     "traceback": [
      "\u001b[1;31m---------------------------------------------------------------------------\u001b[0m",
      "\u001b[1;31mValueError\u001b[0m                                Traceback (most recent call last)",
      "Cell \u001b[1;32mIn[5], line 2\u001b[0m\n\u001b[0;32m      1\u001b[0m c \u001b[38;5;241m=\u001b[39m \u001b[38;5;124m\"\u001b[39m\u001b[38;5;124mabc\u001b[39m\u001b[38;5;124m\"\u001b[39m\n\u001b[1;32m----> 2\u001b[0m d \u001b[38;5;241m=\u001b[39m \u001b[38;5;28;43mint\u001b[39;49m\u001b[43m(\u001b[49m\u001b[43mc\u001b[49m\u001b[43m)\u001b[49m\n\u001b[0;32m      3\u001b[0m \u001b[38;5;28mprint\u001b[39m(\u001b[38;5;241m3\u001b[39m \u001b[38;5;241m+\u001b[39m \u001b[38;5;241m5\u001b[39m)\n",
      "\u001b[1;31mValueError\u001b[0m: invalid literal for int() with base 10: 'abc'"
     ]
    }
   ],
   "source": [
    "\n",
    "c = \"abc\"\n",
    "d = int(c)\n",
    "print(3 + 5)"
   ]
  },
  {
   "cell_type": "markdown",
   "id": "e90a1867",
   "metadata": {},
   "source": [
    "# Division function without exception handling\n"
   ]
  },
  {
   "cell_type": "code",
   "execution_count": 8,
   "id": "dc87d7a0",
   "metadata": {},
   "outputs": [],
   "source": [
    "def division(a: float|int , b: float|int)->float:\n",
    "    c=a/b\n",
    "    return c"
   ]
  },
  {
   "cell_type": "code",
   "execution_count": 12,
   "id": "9decfe59",
   "metadata": {},
   "outputs": [],
   "source": [
    "d1=division(21,7)"
   ]
  },
  {
   "cell_type": "code",
   "execution_count": 14,
   "id": "5107299e",
   "metadata": {},
   "outputs": [
    {
     "name": "stdout",
     "output_type": "stream",
     "text": [
      "3.0\n",
      "Completed\n"
     ]
    }
   ],
   "source": [
    "print(d1)\n",
    "print(\"Completed\")"
   ]
  },
  {
   "cell_type": "code",
   "execution_count": 16,
   "id": "0ccc6fb4",
   "metadata": {},
   "outputs": [
    {
     "ename": "ZeroDivisionError",
     "evalue": "division by zero",
     "output_type": "error",
     "traceback": [
      "\u001b[1;31m---------------------------------------------------------------------------\u001b[0m",
      "\u001b[1;31mZeroDivisionError\u001b[0m                         Traceback (most recent call last)",
      "Cell \u001b[1;32mIn[16], line 1\u001b[0m\n\u001b[1;32m----> 1\u001b[0m d2\u001b[38;5;241m=\u001b[39m\u001b[43mdivision\u001b[49m\u001b[43m(\u001b[49m\u001b[43ma\u001b[49m\u001b[38;5;241;43m=\u001b[39;49m\u001b[38;5;241;43m25\u001b[39;49m\u001b[43m,\u001b[49m\u001b[43mb\u001b[49m\u001b[38;5;241;43m=\u001b[39;49m\u001b[38;5;241;43m0\u001b[39;49m\u001b[43m)\u001b[49m\n\u001b[0;32m      2\u001b[0m \u001b[38;5;28mprint\u001b[39m(d2)\n\u001b[0;32m      3\u001b[0m \u001b[38;5;28mprint\u001b[39m(\u001b[38;5;124m\"\u001b[39m\u001b[38;5;124mCompleted\u001b[39m\u001b[38;5;124m\"\u001b[39m)\n",
      "Cell \u001b[1;32mIn[8], line 2\u001b[0m, in \u001b[0;36mdivision\u001b[1;34m(a, b)\u001b[0m\n\u001b[0;32m      1\u001b[0m \u001b[38;5;28;01mdef\u001b[39;00m \u001b[38;5;21mdivision\u001b[39m(a: \u001b[38;5;28mfloat\u001b[39m\u001b[38;5;241m|\u001b[39m\u001b[38;5;28mint\u001b[39m , b: \u001b[38;5;28mfloat\u001b[39m\u001b[38;5;241m|\u001b[39m\u001b[38;5;28mint\u001b[39m)\u001b[38;5;241m-\u001b[39m\u001b[38;5;241m>\u001b[39m\u001b[38;5;28mfloat\u001b[39m:\n\u001b[1;32m----> 2\u001b[0m     c\u001b[38;5;241m=\u001b[39m\u001b[43ma\u001b[49m\u001b[38;5;241;43m/\u001b[39;49m\u001b[43mb\u001b[49m\n\u001b[0;32m      3\u001b[0m     \u001b[38;5;28;01mreturn\u001b[39;00m c\n",
      "\u001b[1;31mZeroDivisionError\u001b[0m: division by zero"
     ]
    }
   ],
   "source": [
    "d2=division(a=25,b=0)\n",
    "print(d2)\n",
    "print(\"Completed\")"
   ]
  },
  {
   "cell_type": "code",
   "execution_count": 34,
   "id": "2061af1f",
   "metadata": {},
   "outputs": [
    {
     "ename": "TypeError",
     "evalue": "division() got an unexpected keyword argument 'v'",
     "output_type": "error",
     "traceback": [
      "\u001b[1;31m---------------------------------------------------------------------------\u001b[0m",
      "\u001b[1;31mTypeError\u001b[0m                                 Traceback (most recent call last)",
      "Cell \u001b[1;32mIn[34], line 1\u001b[0m\n\u001b[1;32m----> 1\u001b[0m d3\u001b[38;5;241m=\u001b[39m\u001b[43mdivision\u001b[49m\u001b[43m(\u001b[49m\u001b[43ma\u001b[49m\u001b[38;5;241;43m=\u001b[39;49m\u001b[38;5;124;43m'\u001b[39;49m\u001b[38;5;124;43mabc\u001b[39;49m\u001b[38;5;124;43m'\u001b[39;49m\u001b[43m,\u001b[49m\u001b[43mv\u001b[49m\u001b[38;5;241;43m=\u001b[39;49m\u001b[38;5;241;43m10\u001b[39;49m\u001b[43m)\u001b[49m\n\u001b[0;32m      2\u001b[0m \u001b[38;5;28mprint\u001b[39m(d3)\n\u001b[0;32m      3\u001b[0m \u001b[38;5;28mprint\u001b[39m(\u001b[38;5;124m\"\u001b[39m\u001b[38;5;124mcompleted\u001b[39m\u001b[38;5;124m\"\u001b[39m)\n",
      "\u001b[1;31mTypeError\u001b[0m: division() got an unexpected keyword argument 'v'"
     ]
    }
   ],
   "source": [
    "d3=division(a='abc',v=10)\n",
    "print(d3)\n",
    "print(\"completed\")"
   ]
  },
  {
   "cell_type": "markdown",
   "id": "59f5b03f",
   "metadata": {},
   "source": [
    "# Generic Exception handling\n"
   ]
  },
  {
   "cell_type": "markdown",
   "id": "c394f307",
   "metadata": {},
   "source": []
  },
  {
   "cell_type": "code",
   "execution_count": 18,
   "id": "b1b9cb2c",
   "metadata": {},
   "outputs": [
    {
     "name": "stdout",
     "output_type": "stream",
     "text": [
      "Help on class Exception in module builtins:\n",
      "\n",
      "class Exception(BaseException)\n",
      " |  Common base class for all non-exit exceptions.\n",
      " |\n",
      " |  Method resolution order:\n",
      " |      Exception\n",
      " |      BaseException\n",
      " |      object\n",
      " |\n",
      " |  Built-in subclasses:\n",
      " |      ArithmeticError\n",
      " |      AssertionError\n",
      " |      AttributeError\n",
      " |      BufferError\n",
      " |      ... and 16 other subclasses\n",
      " |\n",
      " |  Methods defined here:\n",
      " |\n",
      " |  __init__(self, /, *args, **kwargs)\n",
      " |      Initialize self.  See help(type(self)) for accurate signature.\n",
      " |\n",
      " |  ----------------------------------------------------------------------\n",
      " |  Static methods defined here:\n",
      " |\n",
      " |  __new__(*args, **kwargs)\n",
      " |      Create and return a new object.  See help(type) for accurate signature.\n",
      " |\n",
      " |  ----------------------------------------------------------------------\n",
      " |  Methods inherited from BaseException:\n",
      " |\n",
      " |  __getattribute__(self, name, /)\n",
      " |      Return getattr(self, name).\n",
      " |\n",
      " |  __reduce__(...)\n",
      " |      Helper for pickle.\n",
      " |\n",
      " |  __repr__(self, /)\n",
      " |      Return repr(self).\n",
      " |\n",
      " |  __setstate__(...)\n",
      " |\n",
      " |  __str__(self, /)\n",
      " |      Return str(self).\n",
      " |\n",
      " |  add_note(...)\n",
      " |      Exception.add_note(note) --\n",
      " |      add a note to the exception\n",
      " |\n",
      " |  with_traceback(...)\n",
      " |      Exception.with_traceback(tb) --\n",
      " |      set self.__traceback__ to tb and return self.\n",
      " |\n",
      " |  ----------------------------------------------------------------------\n",
      " |  Data descriptors inherited from BaseException:\n",
      " |\n",
      " |  __cause__\n",
      " |      exception cause\n",
      " |\n",
      " |  __context__\n",
      " |      exception context\n",
      " |\n",
      " |  __dict__\n",
      " |\n",
      " |  __suppress_context__\n",
      " |\n",
      " |  __traceback__\n",
      " |\n",
      " |  args\n",
      "\n"
     ]
    }
   ],
   "source": [
    "help(Exception)\n"
   ]
  },
  {
   "cell_type": "code",
   "execution_count": 21,
   "id": "346b806a",
   "metadata": {},
   "outputs": [],
   "source": [
    "def division2(num: int|float,den:int|float) ->float|None:\n",
    "    try:\n",
    "        div=num/den\n",
    "        return div\n",
    "    except Exception as e:\n",
    "        print(f\"Exception occured:{e}\")\n",
    "\n"
   ]
  },
  {
   "cell_type": "code",
   "execution_count": 22,
   "id": "b2304aab",
   "metadata": {},
   "outputs": [
    {
     "name": "stdout",
     "output_type": "stream",
     "text": [
      "10.0\n",
      "Completed\n"
     ]
    }
   ],
   "source": [
    "a=division2(num=100,den=10)\n",
    "print(a)\n",
    "print(\"Completed\")"
   ]
  },
  {
   "cell_type": "code",
   "execution_count": 23,
   "id": "1cacdcbf",
   "metadata": {},
   "outputs": [
    {
     "name": "stdout",
     "output_type": "stream",
     "text": [
      "Exception occured:division by zero\n",
      "None\n",
      "Completed\n"
     ]
    }
   ],
   "source": [
    "b=division2(num=25,den=0)\n",
    "print(b)\n",
    "print(\"Completed\")"
   ]
  },
  {
   "cell_type": "code",
   "execution_count": 24,
   "id": "b05a7444",
   "metadata": {},
   "outputs": [
    {
     "name": "stdout",
     "output_type": "stream",
     "text": [
      "Exception occured:unsupported operand type(s) for /: 'str' and 'int'\n",
      "None\n",
      "Completed\n"
     ]
    }
   ],
   "source": [
    "\n",
    "c = division2(num=\"abc\", den=4)\n",
    "print(c)\n",
    "print(\"Completed\")"
   ]
  },
  {
   "cell_type": "code",
   "execution_count": 25,
   "id": "6fe3ba38",
   "metadata": {},
   "outputs": [
    {
     "name": "stdout",
     "output_type": "stream",
     "text": [
      "Exception occured:unsupported operand type(s) for /: 'str' and 'str'\n",
      "None\n",
      "Completed\n"
     ]
    }
   ],
   "source": [
    "\n",
    "d = division2(num=\"a\", den=\"b\")\n",
    "print(d)\n",
    "print(\"Completed\")"
   ]
  },
  {
   "cell_type": "markdown",
   "id": "58a62e57",
   "metadata": {},
   "source": [
    "# Use differnent exceptions for each errors\n"
   ]
  },
  {
   "cell_type": "code",
   "execution_count": 30,
   "id": "f8ca58da",
   "metadata": {},
   "outputs": [],
   "source": [
    "def division3(num:int|float,den:int|float)->float|None:\n",
    "    try:\n",
    "        div=num/den\n",
    "        return div\n",
    "    except ZeroDivisionError:\n",
    "        print(\"Deno of division cannot be zero\")\n",
    "    except TypeError:\n",
    "        print(\"Provide number input for numerator and denominaor\")\n",
    "    except Exception as e:\n",
    "        print(f\"Unexpected exception :{e}\")"
   ]
  },
  {
   "cell_type": "code",
   "execution_count": 32,
   "id": "9abdd2fc",
   "metadata": {},
   "outputs": [
    {
     "name": "stdout",
     "output_type": "stream",
     "text": [
      "3.8333333333333335\n",
      "Completed\n"
     ]
    }
   ],
   "source": [
    "a = division3(num=23,den=6)\n",
    "print(a)\n",
    "print(\"Completed\")"
   ]
  },
  {
   "cell_type": "code",
   "execution_count": 33,
   "id": "40164168",
   "metadata": {},
   "outputs": [
    {
     "name": "stdout",
     "output_type": "stream",
     "text": [
      "Deno of division cannot be zero\n",
      "None\n",
      "Completed\n"
     ]
    }
   ],
   "source": [
    "b = division3(num=35, den=0)\n",
    "print(b)\n",
    "print(\"Completed\")\n"
   ]
  },
  {
   "cell_type": "code",
   "execution_count": 35,
   "id": "6be7cd20",
   "metadata": {},
   "outputs": [
    {
     "name": "stdout",
     "output_type": "stream",
     "text": [
      "Provide number input for numerator and denominaor\n",
      "None\n",
      "completed\n"
     ]
    }
   ],
   "source": [
    "c= division3(num='abc',den=5)\n",
    "print(c)\n",
    "print(\"completed\")"
   ]
  },
  {
   "cell_type": "markdown",
   "id": "aacd13fe",
   "metadata": {},
   "source": [
    "# You can also raise an error in python whenever required"
   ]
  },
  {
   "cell_type": "code",
   "execution_count": 37,
   "id": "3dff2a83",
   "metadata": {},
   "outputs": [],
   "source": [
    "def age_validator(age:int) ->int|None:\n",
    "    if age<=0 or age>=100:\n",
    "        raise ValueError(\"Age should be between 1 and 99\")\n",
    "    return age"
   ]
  },
  {
   "cell_type": "code",
   "execution_count": 39,
   "id": "a0b57569",
   "metadata": {},
   "outputs": [
    {
     "name": "stdout",
     "output_type": "stream",
     "text": [
      "25\n"
     ]
    }
   ],
   "source": [
    "a1=age_validator(25)\n",
    "print(a1)"
   ]
  },
  {
   "cell_type": "code",
   "execution_count": 41,
   "id": "3153d1e1",
   "metadata": {},
   "outputs": [
    {
     "ename": "ValueError",
     "evalue": "Age should be between 1 and 99",
     "output_type": "error",
     "traceback": [
      "\u001b[1;31m---------------------------------------------------------------------------\u001b[0m",
      "\u001b[1;31mValueError\u001b[0m                                Traceback (most recent call last)",
      "Cell \u001b[1;32mIn[41], line 1\u001b[0m\n\u001b[1;32m----> 1\u001b[0m a2\u001b[38;5;241m=\u001b[39m\u001b[43mage_validator\u001b[49m\u001b[43m(\u001b[49m\u001b[38;5;241;43m-\u001b[39;49m\u001b[38;5;241;43m23\u001b[39;49m\u001b[43m)\u001b[49m\n\u001b[0;32m      2\u001b[0m \u001b[38;5;28mprint\u001b[39m(a2)\n",
      "Cell \u001b[1;32mIn[37], line 3\u001b[0m, in \u001b[0;36mage_validator\u001b[1;34m(age)\u001b[0m\n\u001b[0;32m      1\u001b[0m \u001b[38;5;28;01mdef\u001b[39;00m \u001b[38;5;21mage_validator\u001b[39m(age:\u001b[38;5;28mint\u001b[39m) \u001b[38;5;241m-\u001b[39m\u001b[38;5;241m>\u001b[39m\u001b[38;5;28mint\u001b[39m\u001b[38;5;241m|\u001b[39m\u001b[38;5;28;01mNone\u001b[39;00m:\n\u001b[0;32m      2\u001b[0m     \u001b[38;5;28;01mif\u001b[39;00m age\u001b[38;5;241m<\u001b[39m\u001b[38;5;241m=\u001b[39m\u001b[38;5;241m0\u001b[39m \u001b[38;5;129;01mor\u001b[39;00m age\u001b[38;5;241m>\u001b[39m\u001b[38;5;241m=\u001b[39m\u001b[38;5;241m100\u001b[39m:\n\u001b[1;32m----> 3\u001b[0m         \u001b[38;5;28;01mraise\u001b[39;00m \u001b[38;5;167;01mValueError\u001b[39;00m(\u001b[38;5;124m\"\u001b[39m\u001b[38;5;124mAge should be between 1 and 99\u001b[39m\u001b[38;5;124m\"\u001b[39m)\n\u001b[0;32m      4\u001b[0m     \u001b[38;5;28;01mreturn\u001b[39;00m age\n",
      "\u001b[1;31mValueError\u001b[0m: Age should be between 1 and 99"
     ]
    }
   ],
   "source": [
    "a2=age_validator(-23)\n",
    "print(a2)"
   ]
  },
  {
   "cell_type": "code",
   "execution_count": 42,
   "id": "095acdf4",
   "metadata": {},
   "outputs": [
    {
     "ename": "ValueError",
     "evalue": "Age should be between 1 and 99",
     "output_type": "error",
     "traceback": [
      "\u001b[1;31m---------------------------------------------------------------------------\u001b[0m",
      "\u001b[1;31mValueError\u001b[0m                                Traceback (most recent call last)",
      "Cell \u001b[1;32mIn[42], line 1\u001b[0m\n\u001b[1;32m----> 1\u001b[0m a3\u001b[38;5;241m=\u001b[39m\u001b[43mage_validator\u001b[49m\u001b[43m(\u001b[49m\u001b[38;5;241;43m200\u001b[39;49m\u001b[43m)\u001b[49m\n\u001b[0;32m      2\u001b[0m \u001b[38;5;28mprint\u001b[39m(a3)\n",
      "Cell \u001b[1;32mIn[37], line 3\u001b[0m, in \u001b[0;36mage_validator\u001b[1;34m(age)\u001b[0m\n\u001b[0;32m      1\u001b[0m \u001b[38;5;28;01mdef\u001b[39;00m \u001b[38;5;21mage_validator\u001b[39m(age:\u001b[38;5;28mint\u001b[39m) \u001b[38;5;241m-\u001b[39m\u001b[38;5;241m>\u001b[39m\u001b[38;5;28mint\u001b[39m\u001b[38;5;241m|\u001b[39m\u001b[38;5;28;01mNone\u001b[39;00m:\n\u001b[0;32m      2\u001b[0m     \u001b[38;5;28;01mif\u001b[39;00m age\u001b[38;5;241m<\u001b[39m\u001b[38;5;241m=\u001b[39m\u001b[38;5;241m0\u001b[39m \u001b[38;5;129;01mor\u001b[39;00m age\u001b[38;5;241m>\u001b[39m\u001b[38;5;241m=\u001b[39m\u001b[38;5;241m100\u001b[39m:\n\u001b[1;32m----> 3\u001b[0m         \u001b[38;5;28;01mraise\u001b[39;00m \u001b[38;5;167;01mValueError\u001b[39;00m(\u001b[38;5;124m\"\u001b[39m\u001b[38;5;124mAge should be between 1 and 99\u001b[39m\u001b[38;5;124m\"\u001b[39m)\n\u001b[0;32m      4\u001b[0m     \u001b[38;5;28;01mreturn\u001b[39;00m age\n",
      "\u001b[1;31mValueError\u001b[0m: Age should be between 1 and 99"
     ]
    }
   ],
   "source": [
    "a3=age_validator(200)\n",
    "print(a3)"
   ]
  },
  {
   "cell_type": "code",
   "execution_count": 43,
   "id": "193f2b78",
   "metadata": {},
   "outputs": [
    {
     "ename": "TypeError",
     "evalue": "'<=' not supported between instances of 'str' and 'int'",
     "output_type": "error",
     "traceback": [
      "\u001b[1;31m---------------------------------------------------------------------------\u001b[0m",
      "\u001b[1;31mTypeError\u001b[0m                                 Traceback (most recent call last)",
      "Cell \u001b[1;32mIn[43], line 1\u001b[0m\n\u001b[1;32m----> 1\u001b[0m a3\u001b[38;5;241m=\u001b[39m\u001b[43mage_validator\u001b[49m\u001b[43m(\u001b[49m\u001b[38;5;124;43m\"\u001b[39;49m\u001b[38;5;124;43mabc\u001b[39;49m\u001b[38;5;124;43m\"\u001b[39;49m\u001b[43m)\u001b[49m\n",
      "Cell \u001b[1;32mIn[37], line 2\u001b[0m, in \u001b[0;36mage_validator\u001b[1;34m(age)\u001b[0m\n\u001b[0;32m      1\u001b[0m \u001b[38;5;28;01mdef\u001b[39;00m \u001b[38;5;21mage_validator\u001b[39m(age:\u001b[38;5;28mint\u001b[39m) \u001b[38;5;241m-\u001b[39m\u001b[38;5;241m>\u001b[39m\u001b[38;5;28mint\u001b[39m\u001b[38;5;241m|\u001b[39m\u001b[38;5;28;01mNone\u001b[39;00m:\n\u001b[1;32m----> 2\u001b[0m     \u001b[38;5;28;01mif\u001b[39;00m \u001b[43mage\u001b[49m\u001b[38;5;241;43m<\u001b[39;49m\u001b[38;5;241;43m=\u001b[39;49m\u001b[38;5;241;43m0\u001b[39;49m \u001b[38;5;129;01mor\u001b[39;00m age\u001b[38;5;241m>\u001b[39m\u001b[38;5;241m=\u001b[39m\u001b[38;5;241m100\u001b[39m:\n\u001b[0;32m      3\u001b[0m         \u001b[38;5;28;01mraise\u001b[39;00m \u001b[38;5;167;01mValueError\u001b[39;00m(\u001b[38;5;124m\"\u001b[39m\u001b[38;5;124mAge should be between 1 and 99\u001b[39m\u001b[38;5;124m\"\u001b[39m)\n\u001b[0;32m      4\u001b[0m     \u001b[38;5;28;01mreturn\u001b[39;00m age\n",
      "\u001b[1;31mTypeError\u001b[0m: '<=' not supported between instances of 'str' and 'int'"
     ]
    }
   ],
   "source": [
    "a3=age_validator(\"abc\")"
   ]
  },
  {
   "cell_type": "code",
   "execution_count": 44,
   "id": "b74cc4da",
   "metadata": {},
   "outputs": [
    {
     "name": "stdout",
     "output_type": "stream",
     "text": [
      "Valid Age entered: 24\n"
     ]
    }
   ],
   "source": [
    "# Input  24\n",
    "try:\n",
    "    input_age=int(input(\"Enter your age:\"))\n",
    "    validated_age=age_validator(input_age)\n",
    "    print(f\"Valid Age entered: {validated_age}\")\n",
    "except ValueError as e:\n",
    "    print(f\"Invalid age entered:{e}\")"
   ]
  },
  {
   "cell_type": "code",
   "execution_count": 45,
   "id": "c61187d4",
   "metadata": {},
   "outputs": [
    {
     "name": "stdout",
     "output_type": "stream",
     "text": [
      "Invalid age entered : Age should be between 1 and 99\n"
     ]
    }
   ],
   "source": [
    "#Input -3\n",
    "try:\n",
    "    input_age=int(input(\"Enter your age:\"))\n",
    "    validated_age=age_validator(input_age)\n",
    "    print(f\"Valid Age entered : {validated_age}\")\n",
    "except Exception as e:\n",
    "    print(f\"Invalid age entered : {e}\")"
   ]
  },
  {
   "cell_type": "code",
   "execution_count": 46,
   "id": "069565ef",
   "metadata": {},
   "outputs": [
    {
     "name": "stdout",
     "output_type": "stream",
     "text": [
      "Invalid age entered : invalid literal for int() with base 10: 'abc'\n"
     ]
    }
   ],
   "source": [
    "#Input: abc\n",
    "try:\n",
    "    input_age=int(input(\"Enter your age:\"))\n",
    "    validated_age=age_validator(input_age)\n",
    "    print(f\"Valid Age entered : {validated_age}\")\n",
    "except Exception as e:\n",
    "    print(f\"Invalid age entered : {e}\")"
   ]
  },
  {
   "cell_type": "markdown",
   "id": "19b19494",
   "metadata": {},
   "source": [
    "# Other bloks\n",
    "1. try - Code you want to run\n",
    "2. except - If exception occurs in try block , exception block will be triggered\n",
    "3. else - else block is executed only if try block is successful\n",
    "4. finally - finally block is always executed in the end"
   ]
  },
  {
   "cell_type": "code",
   "execution_count": 47,
   "id": "702dd8be",
   "metadata": {},
   "outputs": [
    {
     "data": {
      "text/plain": [
       "4.795831523312719"
      ]
     },
     "execution_count": 47,
     "metadata": {},
     "output_type": "execute_result"
    }
   ],
   "source": [
    "import math\n",
    "\n",
    "math.sqrt(23)"
   ]
  },
  {
   "cell_type": "code",
   "execution_count": 48,
   "id": "976d716c",
   "metadata": {},
   "outputs": [
    {
     "data": {
      "text/plain": [
       "2.0"
      ]
     },
     "execution_count": 48,
     "metadata": {},
     "output_type": "execute_result"
    }
   ],
   "source": [
    "math.sqrt(4)\n"
   ]
  },
  {
   "cell_type": "code",
   "execution_count": 49,
   "id": "19bcc84e",
   "metadata": {},
   "outputs": [
    {
     "ename": "ValueError",
     "evalue": "math domain error",
     "output_type": "error",
     "traceback": [
      "\u001b[1;31m---------------------------------------------------------------------------\u001b[0m",
      "\u001b[1;31mValueError\u001b[0m                                Traceback (most recent call last)",
      "Cell \u001b[1;32mIn[49], line 1\u001b[0m\n\u001b[1;32m----> 1\u001b[0m \u001b[43mmath\u001b[49m\u001b[38;5;241;43m.\u001b[39;49m\u001b[43msqrt\u001b[49m\u001b[43m(\u001b[49m\u001b[38;5;241;43m-\u001b[39;49m\u001b[38;5;241;43m1\u001b[39;49m\u001b[43m)\u001b[49m\n",
      "\u001b[1;31mValueError\u001b[0m: math domain error"
     ]
    }
   ],
   "source": [
    "math.sqrt(-1)\n"
   ]
  },
  {
   "cell_type": "code",
   "execution_count": 50,
   "id": "607bfba6",
   "metadata": {},
   "outputs": [
    {
     "ename": "TypeError",
     "evalue": "must be real number, not str",
     "output_type": "error",
     "traceback": [
      "\u001b[1;31m---------------------------------------------------------------------------\u001b[0m",
      "\u001b[1;31mTypeError\u001b[0m                                 Traceback (most recent call last)",
      "Cell \u001b[1;32mIn[50], line 1\u001b[0m\n\u001b[1;32m----> 1\u001b[0m \u001b[43mmath\u001b[49m\u001b[38;5;241;43m.\u001b[39;49m\u001b[43msqrt\u001b[49m\u001b[43m(\u001b[49m\u001b[38;5;124;43m\"\u001b[39;49m\u001b[38;5;124;43ma\u001b[39;49m\u001b[38;5;124;43m\"\u001b[39;49m\u001b[43m)\u001b[49m\n",
      "\u001b[1;31mTypeError\u001b[0m: must be real number, not str"
     ]
    }
   ],
   "source": [
    "math.sqrt(\"a\")\n"
   ]
  },
  {
   "cell_type": "code",
   "execution_count": 51,
   "id": "2b88d625",
   "metadata": {},
   "outputs": [],
   "source": [
    "def square_root(num: int | float) -> float | None:\n",
    "    try:\n",
    "        s = math.sqrt(num)\n",
    "    except Exception as e:\n",
    "        print(f\"Exception occured : {e}\")\n",
    "    else:\n",
    "        print(f\"Square root of number {num} is {s:.4f}\")\n",
    "        return s\n",
    "    finally:\n",
    "        print(\"Finally block is always executed\")"
   ]
  },
  {
   "cell_type": "code",
   "execution_count": 53,
   "id": "0318946a",
   "metadata": {},
   "outputs": [
    {
     "name": "stdout",
     "output_type": "stream",
     "text": [
      "Square root of number 16 is 4.0000\n",
      "Finally block is always executed\n"
     ]
    }
   ],
   "source": [
    "s1 = square_root(num=16)\n"
   ]
  },
  {
   "cell_type": "code",
   "execution_count": 54,
   "id": "8b1d934b",
   "metadata": {},
   "outputs": [
    {
     "data": {
      "text/plain": [
       "4.0"
      ]
     },
     "execution_count": 54,
     "metadata": {},
     "output_type": "execute_result"
    }
   ],
   "source": [
    "s1"
   ]
  },
  {
   "cell_type": "code",
   "execution_count": 55,
   "id": "a3fd2274",
   "metadata": {},
   "outputs": [
    {
     "name": "stdout",
     "output_type": "stream",
     "text": [
      "Square root of number 12 is 3.4641\n",
      "Finally block is always executed\n"
     ]
    }
   ],
   "source": [
    "s2 = square_root(num=12)\n"
   ]
  },
  {
   "cell_type": "code",
   "execution_count": 56,
   "id": "79ddb867",
   "metadata": {},
   "outputs": [
    {
     "data": {
      "text/plain": [
       "3.4641016151377544"
      ]
     },
     "execution_count": 56,
     "metadata": {},
     "output_type": "execute_result"
    }
   ],
   "source": [
    "s2"
   ]
  },
  {
   "cell_type": "code",
   "execution_count": 57,
   "id": "40755078",
   "metadata": {},
   "outputs": [
    {
     "name": "stdout",
     "output_type": "stream",
     "text": [
      "Exception occured : math domain error\n",
      "Finally block is always executed\n"
     ]
    }
   ],
   "source": [
    "s3 = square_root(num=-15)\n"
   ]
  },
  {
   "cell_type": "code",
   "execution_count": 59,
   "id": "0945c415",
   "metadata": {},
   "outputs": [
    {
     "name": "stdout",
     "output_type": "stream",
     "text": [
      "None\n"
     ]
    }
   ],
   "source": [
    "print(s3)\n"
   ]
  },
  {
   "cell_type": "code",
   "execution_count": 60,
   "id": "6e0f554a",
   "metadata": {},
   "outputs": [
    {
     "name": "stdout",
     "output_type": "stream",
     "text": [
      "Exception occured : must be real number, not str\n",
      "Finally block is always executed\n"
     ]
    }
   ],
   "source": [
    "s5 = square_root(num=\"abc\")\n"
   ]
  },
  {
   "cell_type": "code",
   "execution_count": 61,
   "id": "09cc9612",
   "metadata": {},
   "outputs": [
    {
     "name": "stdout",
     "output_type": "stream",
     "text": [
      "Exception occured : must be real number, not list\n",
      "Finally block is always executed\n"
     ]
    }
   ],
   "source": [
    "s6 = square_root([1, 2, 3, 4])\n"
   ]
  },
  {
   "cell_type": "code",
   "execution_count": 62,
   "id": "4a6e27a5",
   "metadata": {},
   "outputs": [
    {
     "name": "stdout",
     "output_type": "stream",
     "text": [
      "None\n"
     ]
    }
   ],
   "source": [
    "print(s6)\n"
   ]
  },
  {
   "cell_type": "markdown",
   "id": "70ca0dc9",
   "metadata": {},
   "source": [
    "# File Handling\n",
    "1. read a file - 'r'\n",
    "2. write a new file - 'w'\n",
    "3. append new line in a file - 'a'"
   ]
  },
  {
   "cell_type": "code",
   "execution_count": 63,
   "id": "3772c5b0",
   "metadata": {},
   "outputs": [],
   "source": [
    "# Writing a completely new file\n",
    "with open(\"new.txt\", \"w\", encoding=\"utf-8\") as f:\n",
    "    f.write(\"My Name is Utkarsh Gaikwad\\n\")\n",
    "    f.write(\"I work as a data scientist\\n\")"
   ]
  },
  {
   "cell_type": "code",
   "execution_count": 64,
   "id": "de87f47b",
   "metadata": {},
   "outputs": [
    {
     "name": "stdout",
     "output_type": "stream",
     "text": [
      "My Name is Utkarsh Gaikwad\n",
      "I work as a data scientist\n",
      "\n"
     ]
    }
   ],
   "source": [
    "\n",
    "# Reading the file\n",
    "with open(\"new.txt\", \"r\", encoding=\"utf-8\") as f:\n",
    "    content = f.read()\n",
    "\n",
    "# Print the content\n",
    "print(content)"
   ]
  },
  {
   "cell_type": "code",
   "execution_count": 65,
   "id": "67d874ea",
   "metadata": {},
   "outputs": [],
   "source": [
    "# Add content in file append mode\n",
    "with open(\"new.txt\", \"a\", encoding=\"utf-8\") as f:\n",
    "    f.write(\"This line is added via append mode\\n\")\n",
    "    f.write(\"This is another line added\\n\")"
   ]
  },
  {
   "cell_type": "code",
   "execution_count": 66,
   "id": "e756e665",
   "metadata": {},
   "outputs": [
    {
     "name": "stdout",
     "output_type": "stream",
     "text": [
      "['My Name is Utkarsh Gaikwad\\n', 'I work as a data scientist\\n', 'This line is added via append mode\\n', 'This is another line added\\n']\n"
     ]
    }
   ],
   "source": [
    "\n",
    "# Read the file contents\n",
    "with open(\"new.txt\", \"r\", encoding=\"utf-8\") as f:\n",
    "    lines = f.readlines()\n",
    "\n",
    "# Print all the line\n",
    "print(lines)"
   ]
  },
  {
   "cell_type": "code",
   "execution_count": 67,
   "id": "8e39faf3",
   "metadata": {},
   "outputs": [
    {
     "data": {
      "text/plain": [
       "list"
      ]
     },
     "execution_count": 67,
     "metadata": {},
     "output_type": "execute_result"
    }
   ],
   "source": [
    "type(lines)\n"
   ]
  },
  {
   "cell_type": "code",
   "execution_count": 68,
   "id": "5d415821",
   "metadata": {},
   "outputs": [
    {
     "name": "stdout",
     "output_type": "stream",
     "text": [
      "My Name is Utkarsh Gaikwad\n",
      "\n",
      "I work as a data scientist\n",
      "\n",
      "This line is added via append mode\n",
      "\n",
      "This is another line added\n",
      "\n"
     ]
    }
   ],
   "source": [
    "\n",
    "for line in lines:\n",
    "    print(line)"
   ]
  },
  {
   "cell_type": "code",
   "execution_count": 69,
   "id": "4ff45f06",
   "metadata": {},
   "outputs": [
    {
     "name": "stdout",
     "output_type": "stream",
     "text": [
      "My Name is Utkarsh Gaikwad\n",
      "I work as a data scientist\n",
      "This line is added via append mode\n",
      "This is another line added\n"
     ]
    }
   ],
   "source": [
    "for line in lines:\n",
    "    print(line.strip())"
   ]
  },
  {
   "cell_type": "code",
   "execution_count": 70,
   "id": "1d1a51e1",
   "metadata": {},
   "outputs": [],
   "source": [
    "\n",
    "content = \"\"\"\n",
    "a = 23\n",
    "b = 24\n",
    "print(a * b)\n",
    "\"\"\"\n",
    "\n",
    "with open(\"add.py\", \"w\", encoding=\"utf-8\") as f:\n",
    "    f.write(content)"
   ]
  },
  {
   "cell_type": "code",
   "execution_count": null,
   "id": "d767294d",
   "metadata": {},
   "outputs": [],
   "source": []
  }
 ],
 "metadata": {
  "kernelspec": {
   "display_name": "base",
   "language": "python",
   "name": "python3"
  },
  "language_info": {
   "codemirror_mode": {
    "name": "ipython",
    "version": 3
   },
   "file_extension": ".py",
   "mimetype": "text/x-python",
   "name": "python",
   "nbconvert_exporter": "python",
   "pygments_lexer": "ipython3",
   "version": "3.12.7"
  }
 },
 "nbformat": 4,
 "nbformat_minor": 5
}
